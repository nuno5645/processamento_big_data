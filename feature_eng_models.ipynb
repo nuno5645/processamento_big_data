{
 "cells": [
  {
   "cell_type": "code",
   "execution_count": 1,
   "metadata": {},
   "outputs": [
    {
     "name": "stderr",
     "output_type": "stream",
     "text": [
      "Setting default log level to \"WARN\".\n",
      "To adjust logging level use sc.setLogLevel(newLevel). For SparkR, use setLogLevel(newLevel).\n",
      "24/06/08 13:22:57 WARN NativeCodeLoader: Unable to load native-hadoop library for your platform... using builtin-java classes where applicable\n",
      "                                                                                \r"
     ]
    },
    {
     "name": "stdout",
     "output_type": "stream",
     "text": [
      "root\n",
      " |-- asin: string (nullable = true)\n",
      " |-- id: string (nullable = true)\n",
      " |-- class: double (nullable = true)\n",
      " |-- helpfulTotalRatio: float (nullable = true)\n",
      " |-- productRating: double (nullable = true)\n",
      " |-- reviewTime: timestamp (nullable = true)\n",
      " |-- reviewerID: string (nullable = true)\n",
      " |-- reviewerName: string (nullable = true)\n",
      " |-- unixReviewTime: long (nullable = true)\n",
      " |-- reviewUpvotes: long (nullable = true)\n",
      " |-- reviewLength: integer (nullable = true)\n",
      " |-- summaryLength: integer (nullable = true)\n",
      " |-- isWeekend: integer (nullable = true)\n",
      " |-- productPopularity: long (nullable = true)\n",
      " |-- avgProductRating: double (nullable = true)\n",
      " |-- helpfulRatioCategory: double (nullable = true)\n",
      " |-- containsQuestion: integer (nullable = true)\n",
      " |-- containsLink: integer (nullable = true)\n",
      "\n",
      "+----------+--------------------+-----+-----------------+-------------+-------------------+--------------+----------------+--------------+-------------+------------+-------------+---------+-----------------+----------------+--------------------+----------------+------------+\n",
      "|      asin|                  id|class|helpfulTotalRatio|productRating|         reviewTime|    reviewerID|    reviewerName|unixReviewTime|reviewUpvotes|reviewLength|summaryLength|isWeekend|productPopularity|avgProductRating|helpfulRatioCategory|containsQuestion|containsLink|\n",
      "+----------+--------------------+-----+-----------------+-------------+-------------------+--------------+----------------+--------------+-------------+------------+-------------+---------+-----------------+----------------+--------------------+----------------+------------+\n",
      "|B008K9W9FM|5a132343741a2384e...|  1.0|            100.0|          4.0|2014-01-10 00:00:00| AXPY53FJ2X9FC|Matthew Rothwell|    1389312000|            1|         237|            7|        1|                1|             4.0|                 2.0|               0|           0|\n",
      "|B008K9XFM8|5a132343741a2384e...|  1.0|            100.0|          4.0|2013-07-17 00:00:00|A3RVFIH804CEJE|    greg climaco|    1374019200|            1|         143|           12|        0|                1|             4.0|                 2.0|               0|           0|\n",
      "|B008KB8H4M|5a132343741a2384e...|  1.0|            100.0|          5.0|2013-05-09 00:00:00|A3FQQ0G1JNLD5B|         Ellie G|    1368057600|            7|         147|           19|        0|                1|             5.0|                 2.0|               0|           0|\n",
      "|B008KE6GW4|5a132343741a2384e...|  1.0|              0.0|          5.0|2014-03-21 00:00:00| ATGB1M1D7UV24|             aps|    1395360000|            0|         275|           12|        1|                1|             5.0|                 0.0|               0|           0|\n",
      "|B008KF7UB4|5a132343741a2384e...|  1.0|              0.0|          4.0|2013-07-07 00:00:00|A2BSWJ112Y5HVZ|      D. Plagens|    1373155200|            0|         256|           14|        0|                1|             4.0|                 0.0|               0|           0|\n",
      "+----------+--------------------+-----+-----------------+-------------+-------------------+--------------+----------------+--------------+-------------+------------+-------------+---------+-----------------+----------------+--------------------+----------------+------------+\n",
      "only showing top 5 rows\n",
      "\n"
     ]
    }
   ],
   "source": [
    "from pyspark.sql import SparkSession\n",
    "from pyspark.sql.functions import col, lower, regexp_replace, length, dayofweek, when\n",
    "from pyspark.sql.types import FloatType\n",
    "from pyspark.sql.functions import udf\n",
    "from pyspark.ml.feature import Bucketizer\n",
    "import matplotlib.pyplot as plt\n",
    "from pyspark.sql import functions as F\n",
    "import os\n",
    "\n",
    "spark = SparkSession.builder \\\n",
    "    .appName(\"LogisticRegressionExample\") \\\n",
    "    .config(\"spark.serializer\", \"org.apache.spark.serializer.KryoSerializer\") \\\n",
    "    .config(\"spark.default.parallelism\", 200) \\\n",
    "    .config(\"spark.serializer\", \"org.apache.spark.serializer.KryoSerializer\") \\\n",
    "    .config(\"spark.sql.execution.arrow.pyspark.enabled\", \"true\") \\\n",
    "    .config(\"spark.sql.execution.arrow.pyspark.fallback.enabled\", \"true\") \\\n",
    "    .config(\"spark.driver.memory\", \"4g\") \\\n",
    "    .config(\"spark.executor.memory\", \"4g\") \\\n",
    "    .config(\"spark.executor.instances\", \"2\") \\\n",
    "    .config(\"spark.network.timeout\", \"800s\") \\\n",
    "    .config(\"spark.rpc.message.maxSize\", \"256\") \\\n",
    "    .config(\"spark.executor.heartbeatInterval\", \"60s\") \\\n",
    "    .getOrCreate()\n",
    "\n",
    "\n",
    "df = spark.read.parquet(\"dataset/features.parquet\")\n",
    "\n",
    "\n",
    "df.printSchema()\n",
    "df.show(5)"
   ]
  },
  {
   "cell_type": "code",
   "execution_count": 2,
   "metadata": {},
   "outputs": [
    {
     "name": "stderr",
     "output_type": "stream",
     "text": [
      "                                                                                \r"
     ]
    },
    {
     "name": "stdout",
     "output_type": "stream",
     "text": [
      "+-----+-----+\n",
      "|class|count|\n",
      "+-----+-----+\n",
      "|  0.0| 1179|\n",
      "|  1.0| 4399|\n",
      "+-----+-----+\n",
      "\n"
     ]
    },
    {
     "name": "stderr",
     "output_type": "stream",
     "text": [
      "                                                                                \r"
     ]
    },
    {
     "name": "stdout",
     "output_type": "stream",
     "text": [
      "Minimum class count: 1179\n"
     ]
    },
    {
     "name": "stderr",
     "output_type": "stream",
     "text": [
      "                                                                                \r"
     ]
    },
    {
     "name": "stdout",
     "output_type": "stream",
     "text": [
      "+----------+--------------------+-----+-----------------+-------------+-------------------+--------------+--------------------+--------------+-------------+------------+-------------+---------+-----------------+----------------+--------------------+----------------+------------+-------------------+\n",
      "|      asin|                  id|class|helpfulTotalRatio|productRating|         reviewTime|    reviewerID|        reviewerName|unixReviewTime|reviewUpvotes|reviewLength|summaryLength|isWeekend|productPopularity|avgProductRating|helpfulRatioCategory|containsQuestion|containsLink|     reviewTime_str|\n",
      "+----------+--------------------+-----+-----------------+-------------+-------------------+--------------+--------------------+--------------+-------------+------------+-------------+---------+-----------------+----------------+--------------------+----------------+------------+-------------------+\n",
      "|B008KOF49K|5a132343741a2384e...|  0.0|              0.0|          3.0|2013-02-19 00:00:00|A33G9Y45QNZKA3|               Missy|    1361232000|            0|         566|            9|        0|                1|             3.0|                 0.0|               0|           0|2013-02-19 00:00:00|\n",
      "|B008KPKDE0|5a132343741a2384e...|  0.0|              0.0|          3.0|2014-07-10 00:00:00|A3PFE4Q1GS9NC8|   Danielle Bernhard|    1404950400|            0|         133|           10|        0|                2|             3.5|                 0.0|               0|           0|2014-07-10 00:00:00|\n",
      "|B008KWKGP4|5a132343741a2384e...|  0.0|              0.0|          2.0|2013-12-03 00:00:00|A19RS671ZDHH2N|          Book lover|    1386028800|            0|         177|           22|        0|                1|             2.0|                 0.0|               0|           0|2013-12-03 00:00:00|\n",
      "|B008L5HBSK|5a132343741a2384e...|  0.0|              0.0|          2.0|2013-05-23 00:00:00| AUS575Z9AF6UL|Marilyn Jenett \"p...|    1369267200|            0|        2092|           22|        0|                1|             2.0|                 0.0|               0|           0|2013-05-23 00:00:00|\n",
      "|B008LCY8V6|5a132343741a2384e...|  0.0|             50.0|          2.0|2014-02-04 00:00:00|A254GR8WTQJCWO|               Megan|    1391472000|            1|         164|           19|        0|                1|             2.0|                 1.0|               0|           0|2014-02-04 00:00:00|\n",
      "|B008LR13VE|5a132343741a2384e...|  0.0|              0.0|          1.0|2014-02-11 00:00:00|A34LXM955TDLQR|       Daniel Majors|    1392076800|            0|         137|            9|        0|                1|             1.0|                 0.0|               0|           0|2014-02-11 00:00:00|\n",
      "|B008M4TC1Y|5a132344741a2384e...|  0.0|            100.0|          1.0|2013-03-13 00:00:00|A2WJXLABBSMCOU|              D.A.G.|    1363132800|            1|        1049|           47|        0|                1|             1.0|                 2.0|               0|           0|2013-03-13 00:00:00|\n",
      "|B00609P9CY|5a13231f741a2384e...|  0.0|              0.0|          2.0|2014-01-09 00:00:00|A2J61ERE9GHKBA|             Kristin|    1389225600|            0|         196|           24|        0|                1|             2.0|                 0.0|               0|           0|2014-01-09 00:00:00|\n",
      "|B0061JO816|5a13231f741a2384e...|  0.0|              0.0|          3.0|2013-06-04 00:00:00|A30U9GRFQIRBJF|          Ichihuahua|    1370304000|            0|         312|           21|        0|                1|             3.0|                 0.0|               0|           0|2013-06-04 00:00:00|\n",
      "|B0061Q4ZZ8|5a13231f741a2384e...|  0.0|              0.0|          2.0|2014-06-16 00:00:00|A1AQZP452LARNE|Amber Lea Rohlman...|    1402876800|            0|         162|           27|        0|                1|             2.0|                 0.0|               0|           0|2014-06-16 00:00:00|\n",
      "|B00635S03U|5a13231f741a2384e...|  0.0|              0.0|          3.0|2013-11-06 00:00:00|A1LHOKYENR7HP2|Barlow Girl \"Barl...|    1383696000|            0|         101|           14|        0|                2|             3.0|                 0.0|               0|           0|2013-11-06 00:00:00|\n",
      "|B00635S03U|5a13231f741a2384e...|  0.0|              0.0|          3.0|2013-11-02 00:00:00|A16538IQYQXQ17|     Christie Zepeda|    1383350400|            0|         230|            3|        1|                2|             3.0|                 0.0|               0|           0|2013-11-02 00:00:00|\n",
      "|B0063DKFFS|5a132320741a2384e...|  0.0|              0.0|          2.0|2013-06-30 00:00:00| ARANXKMTSXJ8R|    Jennifer Stenson|    1372550400|            0|         372|           12|        0|                1|             2.0|                 0.0|               0|           0|2013-06-30 00:00:00|\n",
      "|B0063IXWKI|5a132320741a2384e...|  0.0|              0.0|          1.0|2014-04-03 00:00:00| AAPW1HCYJ4BZA|            McCluney|    1396483200|            0|         148|           24|        0|                1|             1.0|                 0.0|               0|           0|2014-04-03 00:00:00|\n",
      "|B001GQSK36|5a1322c5741a2384e...|  0.0|              0.0|          2.0|2013-10-23 00:00:00|A1LVGZMM2CNTE4|             Bassist|    1382486400|            0|         454|           44|        0|                2|             3.0|                 0.0|               0|           0|2013-10-23 00:00:00|\n",
      "|B001GZGUCK|5a1322c5741a2384e...|  0.0|            100.0|          1.0|2010-12-17 00:00:00| AI7IZ2ZM2O4Y2|                D192|    1292544000|            6|         194|            6|        1|                1|             1.0|                 2.0|               0|           0|2010-12-17 00:00:00|\n",
      "|B001HBVDKM|5a1322c5741a2384e...|  0.0|            100.0|          3.0|2011-08-05 00:00:00|A113B555G4HBV2|               Dan S|    1312502400|            4|         782|           46|        1|                1|             3.0|                 2.0|               0|           0|2011-08-05 00:00:00|\n",
      "|B001HTXBCM|5a1322c5741a2384e...|  0.0|             80.0|          1.0|2010-12-14 00:00:00|A3NB47Q1VOVZXW|          Buckheiser|    1292284800|            8|         533|           20|        0|                1|             1.0|                 2.0|               0|           0|2010-12-14 00:00:00|\n",
      "|B005MKVG1A|5a13231a741a2384e...|  0.0|              0.0|          1.0|2012-11-06 00:00:00|A39JQANDM8B01C|          Ann Celine|    1352160000|            0|         112|           13|        0|                1|             1.0|                 0.0|               0|           0|2012-11-06 00:00:00|\n",
      "|B005MQNXE2|5a13231a741a2384e...|  0.0|            100.0|          2.0|2013-02-06 00:00:00|A2VRHOGURXVK1C|                Lana|    1360108800|            3|         624|           22|        0|                1|             2.0|                 2.0|               0|           0|2013-02-06 00:00:00|\n",
      "+----------+--------------------+-----+-----------------+-------------+-------------------+--------------+--------------------+--------------+-------------+------------+-------------+---------+-----------------+----------------+--------------------+----------------+------------+-------------------+\n",
      "only showing top 20 rows\n",
      "\n",
      "+-----+-----+\n",
      "|class|count|\n",
      "+-----+-----+\n",
      "|  0.0| 1179|\n",
      "|  1.0| 1179|\n",
      "+-----+-----+\n",
      "\n"
     ]
    }
   ],
   "source": [
    "from pyspark.sql import SparkSession\n",
    "from pyspark.sql.functions import col, length, dayofweek, when, to_timestamp\n",
    "from pyspark.ml.feature import Bucketizer, VectorAssembler, StringIndexer, StandardScaler\n",
    "from pyspark.ml.classification import LogisticRegression\n",
    "from pyspark.ml import Pipeline\n",
    "from pyspark.ml.evaluation import MulticlassClassificationEvaluator\n",
    "from pyspark.mllib.evaluation import MulticlassMetrics\n",
    "import matplotlib.pyplot as plt\n",
    "import seaborn as sns\n",
    "\n",
    "# Show the DataFrame\n",
    "\n",
    "\n",
    "df = df.withColumn(\"reviewTime_str\", col(\"reviewTime\").cast(\"string\"))\n",
    "\n",
    "class_distribution = df.groupBy(\"class\").count().orderBy(\"class\")\n",
    "class_distribution.show()\n",
    "\n",
    "# Undersample the majority class\n",
    "min_class_count = class_distribution.agg({\"count\": \"min\"}).collect()[0][0]\n",
    "print(\"Minimum class count:\", min_class_count)\n",
    "\n",
    "df = df.groupBy(\"class\").applyInPandas(\n",
    "    lambda pdf: pdf.sample(n=min_class_count, random_state=42) if len(pdf) > min_class_count else pdf,\n",
    "    schema=df.schema\n",
    ")\n",
    "\n",
    "\n",
    "df.show()\n",
    "\n",
    "class_distribution_undersampled_df = df.groupBy(\"class\").count().orderBy(\"class\")\n",
    "class_distribution_undersampled_df.show()\n",
    "\n",
    "# Split the data into training and test sets\n",
    "train_df, test_df = df.randomSplit([0.8, 0.2], seed=42)\n",
    "\n",
    "\n",
    "\n",
    "\n",
    "# Handle String Columns - Fit and transform on training data only to avoid data leakage\n",
    "indexers = [StringIndexer(inputCol=column, outputCol=column+\"_index\").fit(train_df) for column in ['helpfulRatioCategory', 'reviewerName', 'reviewTime_str']]\n",
    "indexer_stages = [indexer.transform(train_df) for indexer in indexers]\n",
    "\n",
    "# Define feature columns (excluding 'id', 'class', 'asin', 'reviewerID', 'unixReviewTime', 'reviewerName', 'helpfulRatioCategory', 'reviewTime', 'reviewTime_str')\n",
    "feature_columns = [col for col in df.columns if col not in ['id', 'class', 'asin', 'reviewerID', 'unixReviewTime', 'reviewerName', 'helpfulRatioCategory', 'reviewTime', 'reviewTime_str']]\n",
    "\n",
    "# Assemble feature columns into a single feature vector\n",
    "assembler = VectorAssembler(inputCols=feature_columns, outputCol=\"features\")\n",
    "\n",
    "# Normalize the features\n",
    "scaler = StandardScaler(inputCol=\"features\", outputCol=\"scaledFeatures\")\n"
   ]
  },
  {
   "cell_type": "code",
   "execution_count": 6,
   "metadata": {},
   "outputs": [
    {
     "name": "stderr",
     "output_type": "stream",
     "text": [
      "24/06/08 13:20:47 WARN InstanceBuilder: Failed to load implementation from:dev.ludovic.netlib.blas.JNIBLAS\n"
     ]
    },
    {
     "name": "stdout",
     "output_type": "stream",
     "text": [
      "Logistic Regression Test Accuracy = 1.00\n"
     ]
    },
    {
     "name": "stderr",
     "output_type": "stream",
     "text": [
      "/Users/nuno/.local/lib/python3.9/site-packages/pyspark/sql/context.py:158: FutureWarning: Deprecated in 3.0.0. Use SparkSession.builder.getOrCreate() instead.\n",
      "  warnings.warn(\n"
     ]
    },
    {
     "name": "stdout",
     "output_type": "stream",
     "text": [
      "Class 0.0:\n",
      "  Precision = 1.00\n",
      "  Recall = 1.00\n",
      "  F1 Score = 1.00\n",
      "Class 1.0:\n",
      "  Precision = 1.00\n",
      "  Recall = 1.00\n",
      "  F1 Score = 1.00\n"
     ]
    },
    {
     "data": {
      "image/png": "[encoded data removed]",
      "text/plain": [
       "<Figure size 1000x700 with 2 Axes>"
      ]
     },
     "metadata": {},
     "output_type": "display_data"
    }
   ],
   "source": [
    "\n",
    "# Define the logistic regression model\n",
    "model = LogisticRegression(labelCol=\"class\", featuresCol=\"scaledFeatures\")\n",
    "\n",
    "# Define the pipeline\n",
    "pipeline = Pipeline(stages=indexers + [assembler, scaler, model])\n",
    "\n",
    "# Train the model using the training data\n",
    "trained_model = pipeline.fit(train_df)\n",
    "\n",
    "# Make predictions on the testing data\n",
    "predictions = trained_model.transform(test_df)\n",
    "\n",
    "# Calculate accuracy\n",
    "evaluator = MulticlassClassificationEvaluator(labelCol=\"class\", predictionCol=\"prediction\", metricName=\"accuracy\")\n",
    "accuracy = evaluator.evaluate(predictions)\n",
    "print(f\"Logistic Regression Test Accuracy = {accuracy:.2f}\")\n",
    "\n",
    "# Calculate other metrics\n",
    "predictionAndLabels = predictions.select(\"prediction\", \"class\").rdd.map(lambda row: (row[0], row[1]))\n",
    "metrics = MulticlassMetrics(predictionAndLabels)\n",
    "\n",
    "labels = predictions.select(\"class\").distinct().collect()\n",
    "labels = [row['class'] for row in labels]\n",
    "\n",
    "for label in labels:\n",
    "    precision = metrics.precision(label)\n",
    "    recall = metrics.recall(label)\n",
    "    f1Score = metrics.fMeasure(label)\n",
    "    print(f\"Class {label}:\")\n",
    "    print(f\"  Precision = {precision:.2f}\")\n",
    "    print(f\"  Recall = {recall:.2f}\")\n",
    "    print(f\"  F1 Score = {f1Score:.2f}\")\n",
    "\n",
    "# Create confusion matrix\n",
    "confusion_matrix = metrics.confusionMatrix().toArray()\n",
    "confusion_matrix = confusion_matrix.astype(int)\n",
    "\n",
    "# Plot confusion matrix\n",
    "plt.figure(figsize=(10, 7))\n",
    "sns.heatmap(confusion_matrix, annot=True, fmt=\"d\", cmap=\"Blues\")\n",
    "plt.xlabel('Predicted Label')\n",
    "plt.ylabel('True Label')\n",
    "plt.title('Logistic Regression Confusion Matrix')\n",
    "plt.show()"
   ]
  },
  {
   "cell_type": "code",
   "execution_count": 3,
   "metadata": {},
   "outputs": [
    {
     "name": "stderr",
     "output_type": "stream",
     "text": [
      "24/06/08 13:23:11 WARN InstanceBuilder: Failed to load implementation from:dev.ludovic.netlib.blas.JNIBLAS\n"
     ]
    },
    {
     "name": "stdout",
     "output_type": "stream",
     "text": [
      "SVM Test Accuracy = 1.00\n"
     ]
    },
    {
     "name": "stderr",
     "output_type": "stream",
     "text": [
      "/Users/nuno/.local/lib/python3.9/site-packages/pyspark/sql/context.py:158: FutureWarning: Deprecated in 3.0.0. Use SparkSession.builder.getOrCreate() instead.\n",
      "  warnings.warn(\n"
     ]
    },
    {
     "name": "stdout",
     "output_type": "stream",
     "text": [
      "Class 0.0:\n",
      "  Precision = 1.00\n",
      "  Recall = 1.00\n",
      "  F1 Score = 1.00\n",
      "Class 1.0:\n",
      "  Precision = 1.00\n",
      "  Recall = 1.00\n",
      "  F1 Score = 1.00\n"
     ]
    },
    {
     "data": {
      "image/png": "[encoded data removed]",
      "text/plain": [
       "<Figure size 1000x700 with 2 Axes>"
      ]
     },
     "metadata": {},
     "output_type": "display_data"
    }
   ],
   "source": [
    "from pyspark.ml.classification import LinearSVC\n",
    "\n",
    "# Define the SVM model\n",
    "svm = LinearSVC(labelCol=\"class\", featuresCol=\"scaledFeatures\")\n",
    "\n",
    "# Define the pipeline\n",
    "pipeline = Pipeline(stages=indexers + [assembler, scaler, svm])\n",
    "\n",
    "# Train the model using the training data\n",
    "trained_model = pipeline.fit(train_df)\n",
    "\n",
    "# Make predictions on the testing data\n",
    "predictions = trained_model.transform(test_df)\n",
    "\n",
    "# Calculate accuracy\n",
    "evaluator = MulticlassClassificationEvaluator(labelCol=\"class\", predictionCol=\"prediction\", metricName=\"accuracy\")\n",
    "accuracy = evaluator.evaluate(predictions)\n",
    "print(f\"SVM Test Accuracy = {accuracy:.2f}\")\n",
    "\n",
    "# Calculate other metrics\n",
    "predictionAndLabels = predictions.select(\"prediction\", \"class\").rdd.map(lambda row: (row[0], row[1]))\n",
    "metrics = MulticlassMetrics(predictionAndLabels)\n",
    "\n",
    "labels = predictions.select(\"class\").distinct().collect()\n",
    "labels = [row['class'] for row in labels]\n",
    "\n",
    "for label in labels:\n",
    "    precision = metrics.precision(label)\n",
    "    recall = metrics.recall(label)\n",
    "    f1Score = metrics.fMeasure(label)\n",
    "    print(f\"Class {label}:\")\n",
    "    print(f\"  Precision = {precision:.2f}\")\n",
    "    print(f\"  Recall = {recall:.2f}\")\n",
    "    print(f\"  F1 Score = {f1Score:.2f}\")\n",
    "\n",
    "# Create confusion matrix\n",
    "confusion_matrix = metrics.confusionMatrix().toArray()\n",
    "confusion_matrix = confusion_matrix.astype(int)\n",
    "\n",
    "# Plot confusion matrix\n",
    "plt.figure(figsize=(10, 7))\n",
    "sns.heatmap(confusion_matrix, annot=True, fmt=\"d\", cmap=\"Blues\")\n",
    "plt.xlabel('Predicted Label')\n",
    "plt.ylabel('True Label')\n",
    "plt.title('SVM Confusion Matrix')\n",
    "plt.show()"
   ]
  },
  {
   "cell_type": "code",
   "execution_count": 4,
   "metadata": {},
   "outputs": [
    {
     "name": "stdout",
     "output_type": "stream",
     "text": [
      "Decision Tree Test Accuracy = 1.00\n"
     ]
    },
    {
     "name": "stderr",
     "output_type": "stream",
     "text": [
      "/Users/nuno/.local/lib/python3.9/site-packages/pyspark/sql/context.py:158: FutureWarning: Deprecated in 3.0.0. Use SparkSession.builder.getOrCreate() instead.\n",
      "  warnings.warn(\n"
     ]
    },
    {
     "name": "stdout",
     "output_type": "stream",
     "text": [
      "Class 0.0:\n",
      "  Precision = 1.00\n",
      "  Recall = 1.00\n",
      "  F1 Score = 1.00\n",
      "Class 1.0:\n",
      "  Precision = 1.00\n",
      "  Recall = 1.00\n",
      "  F1 Score = 1.00\n"
     ]
    },
    {
     "data": {
      "image/png": "[encoded data removed]",
      "text/plain": [
       "<Figure size 1000x700 with 2 Axes>"
      ]
     },
     "metadata": {},
     "output_type": "display_data"
    }
   ],
   "source": [
    "from pyspark.ml.classification import DecisionTreeClassifier\n",
    "\n",
    "\n",
    "# Define the Decision Tree model\n",
    "dt = DecisionTreeClassifier(labelCol=\"class\", featuresCol=\"scaledFeatures\")\n",
    "\n",
    "# Define the pipeline\n",
    "pipeline = Pipeline(stages=indexers + [assembler, scaler, dt])\n",
    "\n",
    "# Train the model using the training data\n",
    "trained_model = pipeline.fit(train_df)\n",
    "\n",
    "# Make predictions on the testing data\n",
    "predictions = trained_model.transform(test_df)\n",
    "\n",
    "# Calculate accuracy\n",
    "evaluator = MulticlassClassificationEvaluator(labelCol=\"class\", predictionCol=\"prediction\", metricName=\"accuracy\")\n",
    "accuracy = evaluator.evaluate(predictions)\n",
    "print(f\"Decision Tree Test Accuracy = {accuracy:.2f}\")\n",
    "\n",
    "# Calculate other metrics\n",
    "predictionAndLabels = predictions.select(\"prediction\", \"class\").rdd.map(lambda row: (row[0], row[1]))\n",
    "metrics = MulticlassMetrics(predictionAndLabels)\n",
    "\n",
    "labels = predictions.select(\"class\").distinct().collect()\n",
    "labels = [row['class'] for row in labels]\n",
    "\n",
    "for label in labels:\n",
    "    precision = metrics.precision(label)\n",
    "    recall = metrics.recall(label)\n",
    "    f1Score = metrics.fMeasure(label)\n",
    "    print(f\"Class {label}:\")\n",
    "    print(f\"  Precision = {precision:.2f}\")\n",
    "    print(f\"  Recall = {recall:.2f}\")\n",
    "    print(f\"  F1 Score = {f1Score:.2f}\")\n",
    "\n",
    "# Create confusion matrix\n",
    "confusion_matrix = metrics.confusionMatrix().toArray()\n",
    "confusion_matrix = confusion_matrix.astype(int)\n",
    "\n",
    "# Plot confusion matrix\n",
    "plt.figure(figsize=(10, 7))\n",
    "sns.heatmap(confusion_matrix, annot=True, fmt=\"d\", cmap=\"Blues\")\n",
    "plt.xlabel('Predicted Label')\n",
    "plt.ylabel('True Label')\n",
    "plt.title('Decision Tree Confusion Matrix')\n",
    "plt.show()"
   ]
  }
 ],
 "metadata": {
  "kernelspec": {
   "display_name": "learn-env-m1tf",
   "language": "python",
   "name": "python3"
  },
  "language_info": {
   "codemirror_mode": {
    "name": "ipython",
    "version": 3
   },
   "file_extension": ".py",
   "mimetype": "text/x-python",
   "name": "python",
   "nbconvert_exporter": "python",
   "pygments_lexer": "ipython3",
   "version": "3.9.19"
  }
 },
 "nbformat": 4,
 "nbformat_minor": 2
}
