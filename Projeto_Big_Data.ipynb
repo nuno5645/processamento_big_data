{
 "cells": [
  {
   "cell_type": "markdown",
   "metadata": {},
   "source": [
    "### Introdução"
   ]
  },
  {
   "cell_type": "markdown",
   "metadata": {},
   "source": [
    "**Problema de Estudo:** Deteção de Reviews Spam em Produtos de Moda e Acessórios na Amazon.\n",
    "\n",
    "Pretende-se que seja implementada uma solução computacional para estudo e análise de dados em larga escala."
   ]
  },
  {
   "cell_type": "markdown",
   "metadata": {},
   "source": [
    "### Contextualização do problema"
   ]
  },
  {
   "cell_type": "markdown",
   "metadata": {},
   "source": [
    "Neste projeto, pretende-se desenvolver e implementar um modelo computacional capaz de identificar reviews de produtos da categoria \"Clothing, Shoes, and Jewelry\" na Amazon como spam ou não spam. O objetivo é diferenciar reviews genuínas de tentativas de manipulação através de avaliações falsas que podem enganar consumidores e distorcer a percepção do produto. Este problema é particularmente desafiador devido à subjetividade e variabilidade do texto das reviews, bem como às diferentes motivações por trás das reviews spam."
   ]
  },
  {
   "cell_type": "markdown",
   "metadata": {},
   "source": [
    "**Dados**"
   ]
  },
  {
   "cell_type": "code",
   "execution_count": 68,
   "metadata": {},
   "outputs": [],
   "source": [
    "import warnings\n",
    "warnings.filterwarnings(\"ignore\")"
   ]
  },
  {
   "cell_type": "code",
   "execution_count": 69,
   "metadata": {},
   "outputs": [
    {
     "name": "stderr",
     "output_type": "stream",
     "text": [
      "24/06/02 21:44:50 WARN SparkSession: Using an existing Spark session; only runtime SQL configurations will take effect.\n"
     ]
    }
   ],
   "source": [
    "from pyspark.sql import SparkSession\n",
    "\n",
    "# Criar uma sessão Spark\n",
    "spark = SparkSession.builder \\\n",
    "    .appName(\"Clothing_Shoes_and_Jewelry_Analysis\") \\\n",
    "    .getOrCreate()\n"
   ]
  },
  {
   "cell_type": "code",
   "execution_count": 70,
   "metadata": {},
   "outputs": [
    {
     "name": "stderr",
     "output_type": "stream",
     "text": [
      "                                                                                \r"
     ]
    }
   ],
   "source": [
    "# Caminho para o arquivo JSON\n",
    "file_path = \"Clothing_Shoes_and_Jewelry.json\"\n",
    "\n",
    "# Carregar o dataset\n",
    "df = spark.read.json(file_path)"
   ]
  },
  {
   "cell_type": "code",
   "execution_count": 71,
   "metadata": {},
   "outputs": [
    {
     "name": "stdout",
     "output_type": "stream",
     "text": [
      "+--------------------+----------+--------------------+-----+-------+-------+--------------------+-----------+--------------+--------------------+--------------------+--------------+\n",
      "|                 _id|      asin|            category|class|helpful|overall|          reviewText| reviewTime|    reviewerID|        reviewerName|             summary|unixReviewTime|\n",
      "+--------------------+----------+--------------------+-----+-------+-------+--------------------+-----------+--------------+--------------------+--------------------+--------------+\n",
      "|{5a132293741a2384...|0000031887|Clothing_Shoes_an...|  0.0| [0, 1]|    1.0|My 3-yr-old daugh...|03 21, 2013| A19PBP93OF896|Alinna Satake \"Ca...|Tiny and Poorly C...|    1363824000|\n",
      "|{5a132293741a2384...|0000031887|Clothing_Shoes_an...|  1.0| [1, 1]|    4.0|This was a really...|05 26, 2012|A2G0LNLN79Q6HR|       aj_18 \"Aj_18\"|Really Cute but r...|    1337990400|\n",
      "|{5a132293741a2384...|0000031887|Clothing_Shoes_an...|  1.0| [0, 0]|    5.0|Perfect red tutu ...| 11 4, 2013|A2XVJBSRI3SWDI|             abigail|           Nice tutu|    1383523200|\n",
      "|{5a132293741a2384...|0000031887|Clothing_Shoes_an...|  1.0| [0, 0]|    4.0|Bought it for my ...|01 23, 2014|A1P0IHU93EF9ZK|              Amanda|           i love it|    1390435200|\n",
      "|{5a132293741a2384...|0000031887|Clothing_Shoes_an...|  1.0| [0, 0]|    5.0|This is a great t...|02 12, 2011|A1KLRMWW2FWPL4|Amazon Customer \"...|Great tutu-  not ...|    1297468800|\n",
      "+--------------------+----------+--------------------+-----+-------+-------+--------------------+-----------+--------------+--------------------+--------------------+--------------+\n",
      "only showing top 5 rows\n",
      "\n"
     ]
    }
   ],
   "source": [
    "# Mostrar as primeiras 5 linhas do dataframe\n",
    "df.show(5)"
   ]
  },
  {
   "cell_type": "code",
   "execution_count": 72,
   "metadata": {},
   "outputs": [
    {
     "name": "stdout",
     "output_type": "stream",
     "text": [
      "root\n",
      " |-- _id: struct (nullable = true)\n",
      " |    |-- $oid: string (nullable = true)\n",
      " |-- asin: string (nullable = true)\n",
      " |-- category: string (nullable = true)\n",
      " |-- class: double (nullable = true)\n",
      " |-- helpful: array (nullable = true)\n",
      " |    |-- element: long (containsNull = true)\n",
      " |-- overall: double (nullable = true)\n",
      " |-- reviewText: string (nullable = true)\n",
      " |-- reviewTime: string (nullable = true)\n",
      " |-- reviewerID: string (nullable = true)\n",
      " |-- reviewerName: string (nullable = true)\n",
      " |-- summary: string (nullable = true)\n",
      " |-- unixReviewTime: long (nullable = true)\n",
      "\n"
     ]
    }
   ],
   "source": [
    "# Ver a estrutura dos dados\n",
    "df.printSchema()"
   ]
  },
  {
   "cell_type": "code",
   "execution_count": 73,
   "metadata": {},
   "outputs": [
    {
     "name": "stderr",
     "output_type": "stream",
     "text": [
      "                                                                                \r"
     ]
    },
    {
     "data": {
      "text/plain": [
       "5504331"
      ]
     },
     "execution_count": 73,
     "metadata": {},
     "output_type": "execute_result"
    }
   ],
   "source": [
    "# Verificar o número de linhas do dataframe\n",
    "rows = df.count()\n",
    "rows"
   ]
  },
  {
   "cell_type": "code",
   "execution_count": 9,
   "metadata": {},
   "outputs": [
    {
     "data": {
      "text/plain": [
       "12"
      ]
     },
     "execution_count": 9,
     "metadata": {},
     "output_type": "execute_result"
    }
   ],
   "source": [
    "# Verificar o número de colunas do dataframe\n",
    "cols = len(df.columns)\n",
    "cols"
   ]
  },
  {
   "cell_type": "code",
   "execution_count": 10,
   "metadata": {},
   "outputs": [
    {
     "data": {
      "text/plain": [
       "['_id',\n",
       " 'asin',\n",
       " 'category',\n",
       " 'class',\n",
       " 'helpful',\n",
       " 'overall',\n",
       " 'reviewText',\n",
       " 'reviewTime',\n",
       " 'reviewerID',\n",
       " 'reviewerName',\n",
       " 'summary',\n",
       " 'unixReviewTime']"
      ]
     },
     "execution_count": 10,
     "metadata": {},
     "output_type": "execute_result"
    }
   ],
   "source": [
    "# Colunas do dataframe\n",
    "cols = df.columns\n",
    "cols"
   ]
  },
  {
   "cell_type": "markdown",
   "metadata": {},
   "source": [
    "**'_id':** Identificador único de cada review\n",
    "\n",
    "**'asin':** Amazon Standard Identification Number, que é um identificador único para produtos na plataforma da Amazon\n",
    "\n",
    "**'category':** Categoria do produto da review, que indica a que segmento do mercado o produto pertence, como roupas, sapatos ou joias\n",
    "\n",
    "**'class':** Distingue reviews como spam (1.0) ou não spam (0.0)\n",
    "\n",
    "**'helpful':** Array que contém dois números, onde o primeiro indica quantas pessoas acharam a review útil e o segundo quantas pessoas votaram na utilidade da review\n",
    "\n",
    "**'overall':** Nota geral dada ao produto pelo usuário\n",
    "\n",
    "**'reviewText':** Texto completo da review escrita pelo usuário\n",
    "\n",
    "**'reviewTime':** Data em que a review foi publicada\n",
    "\n",
    "**'reviewerID':** Identificador único da pessoa que escreveu a avaliação\n",
    "\n",
    "**'reviewerName':** Nome ou pseudonimo do revisor, conforme apresentado na Amazon no momento da review\n",
    "\n",
    "**'summary':** Resumo da review, que é uma breve descrição ou título que foi dada na avaliação\n",
    "\n",
    "**'unixReviewTime':** Representação em timestamp UNIX da data de publicação da review"
   ]
  },
  {
   "cell_type": "markdown",
   "metadata": {},
   "source": [
    "### Preparação dos Dados"
   ]
  },
  {
   "cell_type": "markdown",
   "metadata": {},
   "source": [
    "- Valores omissos"
   ]
  },
  {
   "cell_type": "code",
   "execution_count": 11,
   "metadata": {},
   "outputs": [
    {
     "name": "stderr",
     "output_type": "stream",
     "text": [
      "[Stage 5:======================================>                  (16 + 8) / 24]\r"
     ]
    },
    {
     "name": "stdout",
     "output_type": "stream",
     "text": [
      "+---+----+--------+-----+-------+-------+----------+----------+----------+------------+-------+--------------+\n",
      "|_id|asin|category|class|helpful|overall|reviewText|reviewTime|reviewerID|reviewerName|summary|unixReviewTime|\n",
      "+---+----+--------+-----+-------+-------+----------+----------+----------+------------+-------+--------------+\n",
      "|  0|   0|       0|    0|      0|      0|         0|         0|         0|       13180|      0|             0|\n",
      "+---+----+--------+-----+-------+-------+----------+----------+----------+------------+-------+--------------+\n",
      "\n"
     ]
    },
    {
     "name": "stderr",
     "output_type": "stream",
     "text": [
      "                                                                                \r"
     ]
    }
   ],
   "source": [
    "# Verificar os valores omissos\n",
    "from pyspark.sql.functions import col, isnull, when, count\n",
    "\n",
    "missing_values = df.select([count(when(col(c).isNull(), c)).alias(c) for c in df.columns])\n",
    "missing_values.show()"
   ]
  },
  {
   "cell_type": "markdown",
   "metadata": {},
   "source": [
    "- Duplicados"
   ]
  },
  {
   "cell_type": "code",
   "execution_count": 60,
   "metadata": {},
   "outputs": [
    {
     "name": "stderr",
     "output_type": "stream",
     "text": [
      "                                                                                \r"
     ]
    },
    {
     "name": "stdout",
     "output_type": "stream",
     "text": [
      "Number of duplicate rows: 0\n"
     ]
    },
    {
     "name": "stderr",
     "output_type": "stream",
     "text": [
      "[Stage 97:============================================>           (19 + 5) / 24]\r"
     ]
    },
    {
     "name": "stdout",
     "output_type": "stream",
     "text": [
      "+--------------------+----------+--------------------+-----+-------+-------+--------------------+-----------+--------------+--------------------+--------------------+--------------+\n",
      "|                 _id|      asin|            category|class|helpful|overall|          reviewText| reviewTime|    reviewerID|        reviewerName|             summary|unixReviewTime|\n",
      "+--------------------+----------+--------------------+-----+-------+-------+--------------------+-----------+--------------+--------------------+--------------------+--------------+\n",
      "|{5a13229b741a2384...|B0008EOEPK|Clothing_Shoes_an...|  1.0| [0, 0]|    4.0|Lee straight leg,...| 01 1, 2014|A2HJ1VX57R6M6L|         Smiling Bob|     Excellent Jeans|    1388534400|\n",
      "|{5a132298741a2384...|B00075ZYRW|Clothing_Shoes_an...|  1.0| [0, 0]|    4.0|Fits 3x. After wa...| 01 1, 2014|A3VTTTYIB5BANY|           fabfamily|liked them. order...|    1388534400|\n",
      "|{5a132296741a2384...|B00023JSDA|Clothing_Shoes_an...|  1.0| [1, 1]|    4.0|The quality/workm...|01 10, 2007|A3TTYJYJJ2Q5TA| Vicki H. \"CA_Vicki\"|     Garnet Necklace|    1168387200|\n",
      "|{5a132298741a2384...|B0006H0PLG|Clothing_Shoes_an...|  1.0| [0, 0]|    5.0|These are perfect...|01 10, 2013|A291VG071KOJLQ|Kara E. Henson Ol...|Perfect comfy fit...|    1357776000|\n",
      "|{5a132294741a2384...|B0000BX8L1|Clothing_Shoes_an...|  1.0| [0, 1]|    5.0|I bought two of t...|01 10, 2013|A2GJHM6USEHK2V|    Angela M. Zirkle|A Perfect First W...|    1357776000|\n",
      "+--------------------+----------+--------------------+-----+-------+-------+--------------------+-----------+--------------+--------------------+--------------------+--------------+\n",
      "only showing top 5 rows\n",
      "\n"
     ]
    },
    {
     "name": "stderr",
     "output_type": "stream",
     "text": [
      "                                                                                \r"
     ]
    }
   ],
   "source": [
    "# Remover os duplicados recorrendo ao método dropDuplicates\n",
    "original_count = df.count()\n",
    "df = df.dropDuplicates()\n",
    "new_count = df.count()\n",
    "\n",
    "duplicates_count = original_count - new_count\n",
    "print(f\"Number of duplicate rows: {duplicates_count}\")\n",
    "\n",
    "df.show(5)"
   ]
  },
  {
   "cell_type": "code",
   "execution_count": 61,
   "metadata": {},
   "outputs": [
    {
     "name": "stderr",
     "output_type": "stream",
     "text": [
      "[Stage 100:======================================>                (17 + 7) / 24]\r"
     ]
    },
    {
     "name": "stdout",
     "output_type": "stream",
     "text": [
      "+--------------------------+\n",
      "|_id                       |\n",
      "+--------------------------+\n",
      "|{5a13229b741a2384e83a658b}|\n",
      "|{5a132298741a2384e83985ee}|\n",
      "|{5a132296741a2384e8387de9}|\n",
      "|{5a132298741a2384e83940c9}|\n",
      "|{5a132294741a2384e837dabf}|\n",
      "|{5a132296741a2384e8386f9b}|\n",
      "|{5a132296741a2384e83897a1}|\n",
      "|{5a13229a741a2384e83a3827}|\n",
      "|{5a132296741a2384e838bb45}|\n",
      "|{5a132299741a2384e839b9ca}|\n",
      "|{5a132299741a2384e839a535}|\n",
      "|{5a132294741a2384e837c1f4}|\n",
      "|{5a132294741a2384e837c127}|\n",
      "|{5a132294741a2384e837cd0f}|\n",
      "|{5a132297741a2384e838cd56}|\n",
      "|{5a132299741a2384e839b98b}|\n",
      "|{5a132299741a2384e839ae06}|\n",
      "|{5a132296741a2384e83899b1}|\n",
      "|{5a132294741a2384e838104e}|\n",
      "|{5a13229c741a2384e83ac749}|\n",
      "+--------------------------+\n",
      "only showing top 20 rows\n",
      "\n"
     ]
    },
    {
     "name": "stderr",
     "output_type": "stream",
     "text": [
      "                                                                                \r"
     ]
    }
   ],
   "source": [
    "# Mostrar as primeiras observações da coluna '_id' \n",
    "df.select(\"_id\").show(truncate=False)"
   ]
  },
  {
   "cell_type": "code",
   "execution_count": 74,
   "metadata": {},
   "outputs": [
    {
     "name": "stdout",
     "output_type": "stream",
     "text": [
      "+--------------------+----------+--------------------+-----+-------+-------+--------------------+-----------+--------------+--------------------+--------------------+--------------+\n",
      "|                 _id|      asin|            category|class|helpful|overall|          reviewText| reviewTime|    reviewerID|        reviewerName|             summary|unixReviewTime|\n",
      "+--------------------+----------+--------------------+-----+-------+-------+--------------------+-----------+--------------+--------------------+--------------------+--------------+\n",
      "|5a132293741a2384e...|0000031887|Clothing_Shoes_an...|  0.0| [0, 1]|    1.0|My 3-yr-old daugh...|03 21, 2013| A19PBP93OF896|Alinna Satake \"Ca...|Tiny and Poorly C...|    1363824000|\n",
      "|5a132293741a2384e...|0000031887|Clothing_Shoes_an...|  1.0| [1, 1]|    4.0|This was a really...|05 26, 2012|A2G0LNLN79Q6HR|       aj_18 \"Aj_18\"|Really Cute but r...|    1337990400|\n",
      "|5a132293741a2384e...|0000031887|Clothing_Shoes_an...|  1.0| [0, 0]|    5.0|Perfect red tutu ...| 11 4, 2013|A2XVJBSRI3SWDI|             abigail|           Nice tutu|    1383523200|\n",
      "|5a132293741a2384e...|0000031887|Clothing_Shoes_an...|  1.0| [0, 0]|    4.0|Bought it for my ...|01 23, 2014|A1P0IHU93EF9ZK|              Amanda|           i love it|    1390435200|\n",
      "|5a132293741a2384e...|0000031887|Clothing_Shoes_an...|  1.0| [0, 0]|    5.0|This is a great t...|02 12, 2011|A1KLRMWW2FWPL4|Amazon Customer \"...|Great tutu-  not ...|    1297468800|\n",
      "|5a132293741a2384e...|0000031887|Clothing_Shoes_an...|  1.0| [0, 0]|    5.0|Got this for our ...|12 26, 2012|A1GQPAM8Y45QN7|     Amazon Customer|                Tutu|    1356480000|\n",
      "|5a132293741a2384e...|0000031887|Clothing_Shoes_an...|  0.0| [1, 1]|    2.0|the tutu color wa...|02 17, 2013|A2R3K1KX09QBYP|      alert consumer|not very good mat...|    1361059200|\n",
      "|5a132293741a2384e...|0000031887|Clothing_Shoes_an...|  1.0| [0, 0]|    5.0|Just as described...|06 22, 2013| AEAN37KUOYSX4|     Amazon Customer|          Fantastic!|    1371859200|\n",
      "|5a132293741a2384e...|0000031887|Clothing_Shoes_an...|  1.0| [0, 0]|    5.0|I bought this for...|01 19, 2013|A2G5TCU2WDFZ65|     Amazon Customer|         Very Cute!!|    1358553600|\n",
      "|5a132293741a2384e...|0000031887|Clothing_Shoes_an...|  1.0| [0, 0]|    5.0|This really is a ...| 03 4, 2013|A2QEODSEIT1ME2|     Amazon Customer|           Very Nice|    1362355200|\n",
      "|5a132293741a2384e...|0000031887|Clothing_Shoes_an...|  1.0| [3, 4]|    4.0|I ordered this fo...|03 16, 2010|A3Q6CTO56DJ8UZ|      Amazing Amazon|       Good Quality!|    1268697600|\n",
      "|5a132293741a2384e...|0000031887|Clothing_Shoes_an...|  1.0| [0, 0]|    5.0|Vey cute and perf...|02 18, 2014|A3CHBY0CB0O7PP|     Amazon Customer|                cute|    1392681600|\n",
      "|5a132293741a2384e...|0000031887|Clothing_Shoes_an...|  1.0| [0, 0]|    5.0|Loved it and so d...|11 21, 2012|A1Z4XQ937SMPO3|             amstier|        super cute!!|    1353456000|\n",
      "|5a132293741a2384e...|0000031887|Clothing_Shoes_an...|  1.0| [0, 0]|    5.0|Purchased it for ...|06 16, 2014|A1MCJONUQ78L9T|     Amazon Customer|My daughter loved...|    1402876800|\n",
      "|5a132293741a2384e...|0000031887|Clothing_Shoes_an...|  1.0| [0, 0]|    4.0|Very cute, shorte...|12 10, 2013|A2PSIVW9I3TGHD|     Amazon Customer|        Good product|    1386633600|\n",
      "|5a132293741a2384e...|0000031887|Clothing_Shoes_an...|  1.0| [0, 0]|    5.0|Our 3-year-old pe...|08 24, 2013| AZMKXP68HZ4CN|      Angela K. Ford|          Wonderful!|    1377302400|\n",
      "|5a132293741a2384e...|0000031887|Clothing_Shoes_an...|  0.0| [0, 0]|    3.0|The waistband was...|12 28, 2012| A5GPS8FCXTPPI|          Ann C Peat|           Waistband|    1356652800|\n",
      "|5a132293741a2384e...|0000031887|Clothing_Shoes_an...|  1.0| [0, 0]|    5.0|The tutu's was fo...|01 15, 2014| AM1CYMR007O6H|         anne foster|              Tutus!|    1389744000|\n",
      "|5a132293741a2384e...|0000031887|Clothing_Shoes_an...|  1.0| [0, 0]|    5.0|My 5 year old dau...|12 25, 2013|A25G580SJ513IC|          Anne Klein|         Very happy!|    1387929600|\n",
      "|5a132293741a2384e...|0000031887|Clothing_Shoes_an...|  1.0| [0, 0]|    4.0|I just got this t...|10 24, 2013|A2F9MVWWC0IZYW|                 Amy|Perfect for the p...|    1382572800|\n",
      "+--------------------+----------+--------------------+-----+-------+-------+--------------------+-----------+--------------+--------------------+--------------------+--------------+\n",
      "only showing top 20 rows\n",
      "\n"
     ]
    }
   ],
   "source": [
    "#Remover caracteres especiais da coluna '_id'\n",
    "from pyspark.sql.functions import col\n",
    "from pyspark.sql.functions import regexp_replace\n",
    "\n",
    "cleaned_df = df.withColumn(\"_id\", col(\"_id\").getField(\"$oid\"))\n",
    "cleaned_df = cleaned_df.withColumn(\"_id\", regexp_replace(col(\"_id\"), \"[{}]\", \"\"))\n",
    "\n",
    "cleaned_df.show()"
   ]
  },
  {
   "cell_type": "code",
   "execution_count": 75,
   "metadata": {},
   "outputs": [
    {
     "name": "stdout",
     "output_type": "stream",
     "text": [
      "+--------------------+-----+-------+-------+--------------------+-----------+--------------------+--------------+\n",
      "|                 _id|class|helpful|overall|          reviewText| reviewTime|             summary|unixReviewTime|\n",
      "+--------------------+-----+-------+-------+--------------------+-----------+--------------------+--------------+\n",
      "|5a132293741a2384e...|  0.0| [0, 1]|    1.0|My 3-yr-old daugh...|03 21, 2013|Tiny and Poorly C...|    1363824000|\n",
      "|5a132293741a2384e...|  1.0| [1, 1]|    4.0|This was a really...|05 26, 2012|Really Cute but r...|    1337990400|\n",
      "|5a132293741a2384e...|  1.0| [0, 0]|    5.0|Perfect red tutu ...| 11 4, 2013|           Nice tutu|    1383523200|\n",
      "|5a132293741a2384e...|  1.0| [0, 0]|    4.0|Bought it for my ...|01 23, 2014|           i love it|    1390435200|\n",
      "|5a132293741a2384e...|  1.0| [0, 0]|    5.0|This is a great t...|02 12, 2011|Great tutu-  not ...|    1297468800|\n",
      "|5a132293741a2384e...|  1.0| [0, 0]|    5.0|Got this for our ...|12 26, 2012|                Tutu|    1356480000|\n",
      "|5a132293741a2384e...|  0.0| [1, 1]|    2.0|the tutu color wa...|02 17, 2013|not very good mat...|    1361059200|\n",
      "|5a132293741a2384e...|  1.0| [0, 0]|    5.0|Just as described...|06 22, 2013|          Fantastic!|    1371859200|\n",
      "|5a132293741a2384e...|  1.0| [0, 0]|    5.0|I bought this for...|01 19, 2013|         Very Cute!!|    1358553600|\n",
      "|5a132293741a2384e...|  1.0| [0, 0]|    5.0|This really is a ...| 03 4, 2013|           Very Nice|    1362355200|\n",
      "|5a132293741a2384e...|  1.0| [3, 4]|    4.0|I ordered this fo...|03 16, 2010|       Good Quality!|    1268697600|\n",
      "|5a132293741a2384e...|  1.0| [0, 0]|    5.0|Vey cute and perf...|02 18, 2014|                cute|    1392681600|\n",
      "|5a132293741a2384e...|  1.0| [0, 0]|    5.0|Loved it and so d...|11 21, 2012|        super cute!!|    1353456000|\n",
      "|5a132293741a2384e...|  1.0| [0, 0]|    5.0|Purchased it for ...|06 16, 2014|My daughter loved...|    1402876800|\n",
      "|5a132293741a2384e...|  1.0| [0, 0]|    4.0|Very cute, shorte...|12 10, 2013|        Good product|    1386633600|\n",
      "|5a132293741a2384e...|  1.0| [0, 0]|    5.0|Our 3-year-old pe...|08 24, 2013|          Wonderful!|    1377302400|\n",
      "|5a132293741a2384e...|  0.0| [0, 0]|    3.0|The waistband was...|12 28, 2012|           Waistband|    1356652800|\n",
      "|5a132293741a2384e...|  1.0| [0, 0]|    5.0|The tutu's was fo...|01 15, 2014|              Tutus!|    1389744000|\n",
      "|5a132293741a2384e...|  1.0| [0, 0]|    5.0|My 5 year old dau...|12 25, 2013|         Very happy!|    1387929600|\n",
      "|5a132293741a2384e...|  1.0| [0, 0]|    4.0|I just got this t...|10 24, 2013|Perfect for the p...|    1382572800|\n",
      "+--------------------+-----+-------+-------+--------------------+-----------+--------------------+--------------+\n",
      "only showing top 20 rows\n",
      "\n"
     ]
    }
   ],
   "source": [
    "# Remover colunas que não são necessárias para o problema em questão\n",
    "cleaned_df = cleaned_df.drop( 'category', 'asin' , 'reviewerID', 'reviewerName') \n",
    "\n",
    "cleaned_df.show()"
   ]
  },
  {
   "cell_type": "code",
   "execution_count": 76,
   "metadata": {},
   "outputs": [],
   "source": [
    "# Renomear as colunas 'overall' e '-id' \n",
    "cleaned_df = cleaned_df.withColumnRenamed(\"overall\", \"productRating\")\\\n",
    "            .withColumnRenamed(\"_id\", \"id\")           "
   ]
  },
  {
   "cell_type": "code",
   "execution_count": 65,
   "metadata": {},
   "outputs": [
    {
     "name": "stderr",
     "output_type": "stream",
     "text": [
      "[Stage 109:================================================>      (21 + 3) / 24]\r"
     ]
    },
    {
     "name": "stdout",
     "output_type": "stream",
     "text": [
      "+--------------------+-----+-------+-------------+--------------------+-----------+--------------------+--------------+\n",
      "|                  id|class|helpful|productRating|          reviewText| reviewTime|             summary|unixReviewTime|\n",
      "+--------------------+-----+-------+-------------+--------------------+-----------+--------------------+--------------+\n",
      "|5a13229b741a2384e...|  1.0| [0, 0]|          4.0|Lee straight leg,...| 01 1, 2014|     Excellent Jeans|    1388534400|\n",
      "|5a132298741a2384e...|  1.0| [0, 0]|          4.0|Fits 3x. After wa...| 01 1, 2014|liked them. order...|    1388534400|\n",
      "|5a132296741a2384e...|  1.0| [1, 1]|          4.0|The quality/workm...|01 10, 2007|     Garnet Necklace|    1168387200|\n",
      "|5a132298741a2384e...|  1.0| [0, 0]|          5.0|These are perfect...|01 10, 2013|Perfect comfy fit...|    1357776000|\n",
      "|5a132294741a2384e...|  1.0| [0, 1]|          5.0|I bought two of t...|01 10, 2013|A Perfect First W...|    1357776000|\n",
      "|5a132296741a2384e...|  1.0| [2, 2]|          5.0|I had this watch ...|01 10, 2013|Excelent watch fo...|    1357776000|\n",
      "|5a132296741a2384e...|  0.0| [0, 0]|          3.0|I bought these be...|01 10, 2013|sturdy but too he...|    1357776000|\n",
      "|5a13229a741a2384e...|  1.0| [0, 0]|          5.0|I have worn this ...|01 10, 2014| Loving my new bra's|    1389312000|\n",
      "|5a132296741a2384e...|  0.0| [0, 0]|          2.0|I run in 9.5 Asic...|01 10, 2014|Didn't work for m...|    1389312000|\n",
      "|5a132299741a2384e...|  1.0| [0, 0]|          5.0|We ordered the Wa...|01 10, 2014|Excited about our...|    1389312000|\n",
      "|5a132299741a2384e...|  1.0| [1, 1]|          5.0|I have owned my C...|01 11, 2007|Citizen Eco-Drive...|    1168473600|\n",
      "|5a132294741a2384e...|  1.0| [1, 1]|          4.0|This was a gift a...|01 11, 2007|Very nice for the...|    1168473600|\n",
      "|5a132294741a2384e...|  1.0| [2, 2]|          5.0|Gave these very p...|01 11, 2007|           Beautiful|    1168473600|\n",
      "|5a132294741a2384e...|  1.0| [4, 4]|          5.0|This is the secon...|01 11, 2011|             stylish|    1294704000|\n",
      "|5a132297741a2384e...|  1.0| [0, 0]|          5.0|These boots fit g...|01 11, 2013|     excellent boots|    1357862400|\n",
      "|5a132299741a2384e...|  1.0| [0, 0]|          4.0|The seams along t...|01 11, 2013|A couple of probl...|    1357862400|\n",
      "|5a132299741a2384e...|  1.0| [0, 0]|          5.0|Bought these back...|01 11, 2013|    Love these shoes|    1357862400|\n",
      "|5a132296741a2384e...|  1.0| [1, 1]|          5.0|I had always assu...|01 12, 2007|Beautiful Freshwa...|    1168560000|\n",
      "|5a132294741a2384e...|  1.0| [3, 3]|          4.0|For what I paid, ...|01 12, 2008|                Fine|    1200096000|\n",
      "|5a13229c741a2384e...|  1.0| [0, 0]|          5.0|Way worth the mon...|01 12, 2009|            good buy|    1231718400|\n",
      "+--------------------+-----+-------+-------------+--------------------+-----------+--------------------+--------------+\n",
      "only showing top 20 rows\n",
      "\n"
     ]
    },
    {
     "name": "stderr",
     "output_type": "stream",
     "text": [
      "                                                                                \r"
     ]
    }
   ],
   "source": [
    "cleaned_df.show()"
   ]
  },
  {
   "cell_type": "code",
   "execution_count": 77,
   "metadata": {},
   "outputs": [],
   "source": [
    "# Colocar o número de votos recebidos como uma métrica de 'Helpful'\n",
    "cleaned_df = cleaned_df.withColumn('reviewUpvotes', col('helpful')[0])\n",
    "\n",
    "#cleaned_df.show()"
   ]
  },
  {
   "cell_type": "code",
   "execution_count": 78,
   "metadata": {},
   "outputs": [],
   "source": [
    "# Modificar a coluna 'helpful' original para um valor float que mostra o número de pessoas que acharam útil entre o total de pessoas que a viram\n",
    "from pyspark.sql.types import FloatType\n",
    "from pyspark.sql.functions import udf\n",
    "\n",
    "def helpful_ratio(helpful):\n",
    "    try:\n",
    "        return (helpful[0] / helpful[1])*100\n",
    "    except ZeroDivisionError:\n",
    "        return 0.0  # retorna 0.0 se não houver votos\n",
    "    except:\n",
    "        return None\n",
    "\n",
    "# UDF para calcular a taxa de votos úteis \n",
    "ratio_udf = udf(helpful_ratio, FloatType())\n",
    "\n",
    "# Aplicar a UDF ao DataFrame\n",
    "cleaned_df =  cleaned_df.withColumn('helpful', ratio_udf(col('helpful')))"
   ]
  },
  {
   "cell_type": "code",
   "execution_count": 39,
   "metadata": {},
   "outputs": [
    {
     "name": "stdout",
     "output_type": "stream",
     "text": [
      "+--------------------+-----+-------+-------------+--------------------+-----------+--------------------+--------------+-------------+\n",
      "|                  id|class|helpful|productRating|          reviewText| reviewTime|             summary|unixReviewTime|reviewUpvotes|\n",
      "+--------------------+-----+-------+-------------+--------------------+-----------+--------------------+--------------+-------------+\n",
      "|5a132293741a2384e...|  0.0|    0.0|          1.0|My 3-yr-old daugh...|03 21, 2013|Tiny and Poorly C...|    1363824000|            0|\n",
      "|5a132293741a2384e...|  1.0|  100.0|          4.0|This was a really...|05 26, 2012|Really Cute but r...|    1337990400|            1|\n",
      "|5a132293741a2384e...|  1.0|    0.0|          5.0|Perfect red tutu ...| 11 4, 2013|           Nice tutu|    1383523200|            0|\n",
      "|5a132293741a2384e...|  1.0|    0.0|          4.0|Bought it for my ...|01 23, 2014|           i love it|    1390435200|            0|\n",
      "|5a132293741a2384e...|  1.0|    0.0|          5.0|This is a great t...|02 12, 2011|Great tutu-  not ...|    1297468800|            0|\n",
      "|5a132293741a2384e...|  1.0|    0.0|          5.0|Got this for our ...|12 26, 2012|                Tutu|    1356480000|            0|\n",
      "|5a132293741a2384e...|  0.0|  100.0|          2.0|the tutu color wa...|02 17, 2013|not very good mat...|    1361059200|            1|\n",
      "|5a132293741a2384e...|  1.0|    0.0|          5.0|Just as described...|06 22, 2013|          Fantastic!|    1371859200|            0|\n",
      "|5a132293741a2384e...|  1.0|    0.0|          5.0|I bought this for...|01 19, 2013|         Very Cute!!|    1358553600|            0|\n",
      "|5a132293741a2384e...|  1.0|    0.0|          5.0|This really is a ...| 03 4, 2013|           Very Nice|    1362355200|            0|\n",
      "|5a132293741a2384e...|  1.0|   75.0|          4.0|I ordered this fo...|03 16, 2010|       Good Quality!|    1268697600|            3|\n",
      "|5a132293741a2384e...|  1.0|    0.0|          5.0|Vey cute and perf...|02 18, 2014|                cute|    1392681600|            0|\n",
      "|5a132293741a2384e...|  1.0|    0.0|          5.0|Loved it and so d...|11 21, 2012|        super cute!!|    1353456000|            0|\n",
      "|5a132293741a2384e...|  1.0|    0.0|          5.0|Purchased it for ...|06 16, 2014|My daughter loved...|    1402876800|            0|\n",
      "|5a132293741a2384e...|  1.0|    0.0|          4.0|Very cute, shorte...|12 10, 2013|        Good product|    1386633600|            0|\n",
      "|5a132293741a2384e...|  1.0|    0.0|          5.0|Our 3-year-old pe...|08 24, 2013|          Wonderful!|    1377302400|            0|\n",
      "|5a132293741a2384e...|  0.0|    0.0|          3.0|The waistband was...|12 28, 2012|           Waistband|    1356652800|            0|\n",
      "|5a132293741a2384e...|  1.0|    0.0|          5.0|The tutu's was fo...|01 15, 2014|              Tutus!|    1389744000|            0|\n",
      "|5a132293741a2384e...|  1.0|    0.0|          5.0|My 5 year old dau...|12 25, 2013|         Very happy!|    1387929600|            0|\n",
      "|5a132293741a2384e...|  1.0|    0.0|          4.0|I just got this t...|10 24, 2013|Perfect for the p...|    1382572800|            0|\n",
      "+--------------------+-----+-------+-------------+--------------------+-----------+--------------------+--------------+-------------+\n",
      "only showing top 20 rows\n",
      "\n"
     ]
    },
    {
     "name": "stderr",
     "output_type": "stream",
     "text": [
      "                                                                                \r"
     ]
    }
   ],
   "source": [
    "cleaned_df.show()"
   ]
  },
  {
   "cell_type": "code",
   "execution_count": 79,
   "metadata": {},
   "outputs": [],
   "source": [
    "# Renomear a coluna 'helpful' para 'helpfulTotalRatio'\n",
    "cleaned_df =cleaned_df.withColumnRenamed(\"helpful\", \"helpfulTotalRatio\")"
   ]
  },
  {
   "cell_type": "code",
   "execution_count": 80,
   "metadata": {},
   "outputs": [
    {
     "data": {
      "text/plain": [
       "['id',\n",
       " 'class',\n",
       " 'helpfulTotalRatio',\n",
       " 'productRating',\n",
       " 'reviewText',\n",
       " 'reviewTime',\n",
       " 'summary',\n",
       " 'unixReviewTime',\n",
       " 'reviewUpvotes']"
      ]
     },
     "execution_count": 80,
     "metadata": {},
     "output_type": "execute_result"
    }
   ],
   "source": [
    "cleaned_df.columns"
   ]
  },
  {
   "cell_type": "code",
   "execution_count": 81,
   "metadata": {},
   "outputs": [
    {
     "name": "stdout",
     "output_type": "stream",
     "text": [
      "+--------------------+-----+-----------------+-------------+--------------------+-------------------+--------------------+--------------+-------------+\n",
      "|                  id|class|helpfulTotalRatio|productRating|          reviewText|         reviewTime|             summary|unixReviewTime|reviewUpvotes|\n",
      "+--------------------+-----+-----------------+-------------+--------------------+-------------------+--------------------+--------------+-------------+\n",
      "|5a132293741a2384e...|  0.0|              0.0|          1.0|My 3-yr-old daugh...|2013-03-21 00:00:00|Tiny and Poorly C...|    1363824000|            0|\n",
      "|5a132293741a2384e...|  1.0|            100.0|          4.0|This was a really...|2012-05-26 00:00:00|Really Cute but r...|    1337990400|            1|\n",
      "|5a132293741a2384e...|  1.0|              0.0|          5.0|Perfect red tutu ...|2013-11-04 00:00:00|           Nice tutu|    1383523200|            0|\n",
      "|5a132293741a2384e...|  1.0|              0.0|          4.0|Bought it for my ...|2014-01-23 00:00:00|           i love it|    1390435200|            0|\n",
      "|5a132293741a2384e...|  1.0|              0.0|          5.0|This is a great t...|2011-02-12 00:00:00|Great tutu-  not ...|    1297468800|            0|\n",
      "|5a132293741a2384e...|  1.0|              0.0|          5.0|Got this for our ...|2012-12-26 00:00:00|                Tutu|    1356480000|            0|\n",
      "|5a132293741a2384e...|  0.0|            100.0|          2.0|the tutu color wa...|2013-02-17 00:00:00|not very good mat...|    1361059200|            1|\n",
      "|5a132293741a2384e...|  1.0|              0.0|          5.0|Just as described...|2013-06-22 00:00:00|          Fantastic!|    1371859200|            0|\n",
      "|5a132293741a2384e...|  1.0|              0.0|          5.0|I bought this for...|2013-01-19 00:00:00|         Very Cute!!|    1358553600|            0|\n",
      "|5a132293741a2384e...|  1.0|              0.0|          5.0|This really is a ...|2013-03-04 00:00:00|           Very Nice|    1362355200|            0|\n",
      "|5a132293741a2384e...|  1.0|             75.0|          4.0|I ordered this fo...|2010-03-16 00:00:00|       Good Quality!|    1268697600|            3|\n",
      "|5a132293741a2384e...|  1.0|              0.0|          5.0|Vey cute and perf...|2014-02-18 00:00:00|                cute|    1392681600|            0|\n",
      "|5a132293741a2384e...|  1.0|              0.0|          5.0|Loved it and so d...|2012-11-21 00:00:00|        super cute!!|    1353456000|            0|\n",
      "|5a132293741a2384e...|  1.0|              0.0|          5.0|Purchased it for ...|2014-06-16 00:00:00|My daughter loved...|    1402876800|            0|\n",
      "|5a132293741a2384e...|  1.0|              0.0|          4.0|Very cute, shorte...|2013-12-10 00:00:00|        Good product|    1386633600|            0|\n",
      "|5a132293741a2384e...|  1.0|              0.0|          5.0|Our 3-year-old pe...|2013-08-24 00:00:00|          Wonderful!|    1377302400|            0|\n",
      "|5a132293741a2384e...|  0.0|              0.0|          3.0|The waistband was...|2012-12-28 00:00:00|           Waistband|    1356652800|            0|\n",
      "|5a132293741a2384e...|  1.0|              0.0|          5.0|The tutu's was fo...|2014-01-15 00:00:00|              Tutus!|    1389744000|            0|\n",
      "|5a132293741a2384e...|  1.0|              0.0|          5.0|My 5 year old dau...|2013-12-25 00:00:00|         Very happy!|    1387929600|            0|\n",
      "|5a132293741a2384e...|  1.0|              0.0|          4.0|I just got this t...|2013-10-24 00:00:00|Perfect for the p...|    1382572800|            0|\n",
      "+--------------------+-----+-----------------+-------------+--------------------+-------------------+--------------------+--------------+-------------+\n",
      "only showing top 20 rows\n",
      "\n"
     ]
    }
   ],
   "source": [
    "# Converter a coluna 'reviewTime' para o formato de data\n",
    "from pyspark.sql.functions import to_timestamp\n",
    "\n",
    "cleaned_df = cleaned_df.withColumn(\"reviewTime\", to_timestamp(\"reviewTime\", \"MM dd, yyyy\"))\n",
    "cleaned_df.show()"
   ]
  },
  {
   "cell_type": "markdown",
   "metadata": {},
   "source": [
    "- Transformação dos dados: normalizar o texto (remover pontuações, passar o texto para minusculas, ...)"
   ]
  },
  {
   "cell_type": "code",
   "execution_count": 98,
   "metadata": {
    "scrolled": true
   },
   "outputs": [
    {
     "name": "stderr",
     "output_type": "stream",
     "text": [
      "[Stage 119:>                                                        (0 + 1) / 1]\r"
     ]
    },
    {
     "name": "stdout",
     "output_type": "stream",
     "text": [
      "+------------------------+-----+-----------------+-------------+--------------------------------------------------------------------------------------------------------------------------------------------------------------------------------------------------------------------------------------------------------------------------------------------------------------------------------------------------------------------------------------------------------------------------------------------------------------------------------------------------------------------------------------------------------------------------------------------------------------------------------------------------------------------------------------+----------+----------------------------------------+--------------+-------------+\n",
      "|id                      |class|helpfulTotalRatio|productRating|reviewText                                                                                                                                                                                                                                                                                                                                                                                                                                                                                                                                                                                                                                                                            |reviewTime|summary                                 |unixReviewTime|reviewUpvotes|\n",
      "+------------------------+-----+-----------------+-------------+--------------------------------------------------------------------------------------------------------------------------------------------------------------------------------------------------------------------------------------------------------------------------------------------------------------------------------------------------------------------------------------------------------------------------------------------------------------------------------------------------------------------------------------------------------------------------------------------------------------------------------------------------------------------------------------+----------+----------------------------------------+--------------+-------------+\n",
      "|5a13229b741a2384e83a658b|1.0  |0.0              |4.0          |lee straight leg double black jeans are well made and good looking the fit is comfortable but not baggy i have washed these jeans several times and the double black process slows down the fading so common in black jeans                                                                                                                                                                                                                                                                                                                                                                                                                                                           |NULL      |Excellent Jeans                         |1388534400    |0            |\n",
      "|5a132298741a2384e83985ee|1.0  |0.0              |4.0          |fits x after washing seems just a tad too short when i lift my arms but i believe its because i should have ordered big and tall good quality and color                                                                                                                                                                                                                                                                                                                                                                                                                                                                                                                               |NULL      |liked them. ordered few different colors|1388534400    |0            |\n",
      "|5a132296741a2384e8387de9|1.0  |100.0            |4.0          |the quality workmanship of the necklace is very good i bought this for my daughter s birthday she likes the looks of the necklace off but has never worn it because it doesn t lay just right on when it is around her neck                                                                                                                                                                                                                                                                                                                                                                                                                                                           |NULL      |Garnet Necklace                         |1168387200    |1            |\n",
      "|5a132298741a2384e83940c9|1.0  |0.0              |5.0          |these are perfect trousers in my opinion the material is supple heavy enough to be good quality but not too thick that they don t breathe so to speak i am and the length is just right they come up to a comfortable place on my middle they are just what i was looking for                                                                                                                                                                                                                                                                                                                                                                                                         |NULL      |Perfect comfy fitness trousers          |1357776000    |0            |\n",
      "|5a132294741a2384e837dabf|1.0  |0.0              |5.0          |i bought two of this type of watch last year and they worked wonderfully both grand kids learned to tell time i have a year old grandson that requested one this year since he s already picked up the fundamentals of time telling he loves it the elastic band adjusts down in size so there s no worry of it falling off the colors are vibrant and the lizards were a big hit a perfect first watch                                                                                                                                                                                                                                                                               |NULL      |A Perfect First Watch                   |1357776000    |0            |\n",
      "|5a132296741a2384e8386f9b|1.0  |100.0            |5.0          |i had this watch for the last years went swimming snorkeling and even scooba diving with it it never failed glow is definitely a plus excellent not expensive choice note description seems to have a typo wr is m not ft which is much better                                                                                                                                                                                                                                                                                                                                                                                                                                        |NULL      |Excelent watch for the price.           |1357776000    |2            |\n",
      "|5a132296741a2384e83897a1|0.0  |0.0              |3.0          |i bought these because i wanted a better tread on my boot the other muck boots i have are too slippery in the mud these boots are really well made with a good sole but very stiff and not cushy like my other pair they are also fairly heavy i need a boot that isn t this heavy but has a good tread any suggestions                                                                                                                                                                                                                                                                                                                                                               |NULL      |sturdy but too heavy for me             |1357776000    |0            |\n",
      "|5a13229a741a2384e83a3827|1.0  |0.0              |5.0          |i have worn this bra for many years the last two times i needed new one s i ordered from amazon couldn t be happier same as the expensive one i have bought for years the fit well and the lift is very good and i got new ones for price thank you for your quick and easy service pleased in alabama roll tide                                                                                                                                                                                                                                                                                                                                                                      |NULL      |Loving my new bra's                     |1389312000    |0            |\n",
      "|5a132296741a2384e838bb45|0.0  |0.0              |2.0          |i run in asics womens tried the small but they didn t fit my shoe got the medium and the heel piece still didn t sit flush against the sole of my shoe but i tried running in them anyway i was very confident running on the slippery sidewalks of my neighborhood which was awesome i have fallen a number of times running with yaktrax but the deal breaker for me is that the toe piece pushes right against my bone spur ok it s bunion i just hate saying that word i wasn t crazy about the added weight of these compared to yaktrax but the sure footed ness of them would make up for that in my opinion plus you would just be faster in the spring when you take them off|NULL      |Didn't work for me :-(                  |1389312000    |0            |\n",
      "|5a132299741a2384e839b9ca|1.0  |0.0              |5.0          |we ordered the wallabee boot for our son he loved the boot it fit like a glove the sand color was very well chosen because it would go with all of his clothes they fit nice round his angle and was very comfortable we plan to order from amazon again soon                                                                                                                                                                                                                                                                                                                                                                                                                         |NULL      |Excited about our Purchase!             |1389312000    |0            |\n",
      "|5a132299741a2384e839a535|1.0  |100.0            |5.0          |i have owned my citizen eco drive diver s watch for over years and love it but the band was pretty worn out this band is a little more expensive than your usual replacement band but it is pretty much an exact match to the original band i plan to get another years out of the watch now i would recommend it you want an exact replacement                                                                                                                                                                                                                                                                                                                                       |NULL      |Citizen Eco-Drive Exact Replacement Band|1168473600    |1            |\n",
      "|5a132294741a2384e837c1f4|1.0  |100.0            |4.0          |this was a gift and i was not sure of the quality when i ordered but when i saw it i was impressed very nice for a reasonable price                                                                                                                                                                                                                                                                                                                                                                                                                                                                                                                                                   |NULL      |Very nice for the price                 |1168473600    |1            |\n",
      "|5a132294741a2384e837c127|1.0  |100.0            |5.0          |gave these very pretty earrings to my sister for christmas she loved them too                                                                                                                                                                                                                                                                                                                                                                                                                                                                                                                                                                                                         |NULL      |Beautiful                               |1168473600    |2            |\n",
      "|5a132294741a2384e837cd0f|1.0  |100.0            |5.0          |this is the second of these i have purchased for my husband it is first of all not a cowboy hat but a very stylish panama like hat the crown is very well ventilated and the brim is lined to provide excellent shade to the face                                                                                                                                                                                                                                                                                                                                                                                                                                                     |NULL      |stylish                                 |1294704000    |4            |\n",
      "|5a132297741a2384e838cd56|1.0  |0.0              |5.0          |these boots fit great my feet don t slide around inside the boot like they do with uggs and the price made my day                                                                                                                                                                                                                                                                                                                                                                                                                                                                                                                                                                     |NULL      |excellent boots                         |1357862400    |0            |\n",
      "|5a132299741a2384e839b98b|1.0  |0.0              |4.0          |the seams along the sides started coming undone after wearing them twice amazon took care of me and sent me a new pair at no cost they even paid for the return shipping must have been a fluke during manufacturing because i ve problems with the new pair i m happy                                                                                                                                                                                                                                                                                                                                                                                                                |NULL      |A couple of problems...                 |1357862400    |0            |\n",
      "|5a132299741a2384e839ae06|1.0  |0.0              |5.0          |bought these back in and still have them in rotation they have been amazingly durable and comfortable i would recommend                                                                                                                                                                                                                                                                                                                                                                                                                                                                                                                                                               |NULL      |Love these shoes                        |1357862400    |0            |\n",
      "|5a132296741a2384e83899b1|1.0  |100.0            |5.0          |i had always assumed that freshwater pearls were oddly shaped and not as attractive as their saltwater cousins this set put my assumptions to rest it is a beautiful set of pearls at a very competetive price                                                                                                                                                                                                                                                                                                                                                                                                                                                                        |NULL      |Beautiful Freshwater Pearls             |1168560000    |1            |\n",
      "|5a132294741a2384e838104e|1.0  |100.0            |4.0          |for what i paid it was exactly what i asked for i am very satisfied with the order it even came earlier than i was expecting it                                                                                                                                                                                                                                                                                                                                                                                                                                                                                                                                                       |NULL      |Fine                                    |1200096000    |3            |\n",
      "|5a13229c741a2384e83ac749|1.0  |0.0              |5.0          |way worth the moneyit was a gift and my dad loves it                                                                                                                                                                                                                                                                                                                                                                                                                                                                                                                                                                                                                                  |NULL      |good buy                                |1231718400    |0            |\n",
      "+------------------------+-----+-----------------+-------------+--------------------------------------------------------------------------------------------------------------------------------------------------------------------------------------------------------------------------------------------------------------------------------------------------------------------------------------------------------------------------------------------------------------------------------------------------------------------------------------------------------------------------------------------------------------------------------------------------------------------------------------------------------------------------------------+----------+----------------------------------------+--------------+-------------+\n",
      "only showing top 20 rows\n",
      "\n"
     ]
    },
    {
     "name": "stderr",
     "output_type": "stream",
     "text": [
      "                                                                                \r"
     ]
    }
   ],
   "source": [
    "import re\n",
    "import pyspark.sql.functions as F\n",
    "\n",
    "# Converter todos os caracteres para minúsculas\n",
    "cleaned_df = cleaned_df.withColumn('reviewText', F.lower(cleaned_df['reviewText']))\n",
    "\n",
    "# Remover código HTML\n",
    "cleaned_df = cleaned_df.withColumn('reviewText', F.regexp_replace(cleaned_df['reviewText'], '<[^>]+>', ''))\n",
    "\n",
    "# Remover URLs\n",
    "cleaned_df = cleaned_df.withColumn('reviewText', F.regexp_replace(cleaned_df['reviewText'], 'http\\S+|www\\S+|https?\\:\\/\\/\\S+', ''))\n",
    "\n",
    "# Remover menções a usuários (não é comum em reviews da Amazon)\n",
    "cleaned_df = cleaned_df.withColumn('reviewText', F.regexp_replace(cleaned_df['reviewText'], '@\\w+', ''))\n",
    "\n",
    "# Remover hashtags (não é comum em reviews da Amazon)\n",
    "cleaned_df = cleaned_df.withColumn('reviewText', F.regexp_replace(cleaned_df['reviewText'], '#\\w+', ''))\n",
    "\n",
    "# Remover entidades HTML (&amp;, &lt;, etc.)\n",
    "cleaned_df = cleaned_df.withColumn('reviewText', F.regexp_replace(cleaned_df['reviewText'], '&\\w+;', ''))\n",
    "\n",
    "# Substituir caracteres não alfanuméricos e pontuação por um espaço em branco\n",
    "cleaned_df = cleaned_df.withColumn('reviewText', F.regexp_replace(cleaned_df['reviewText'], '[^\\w\\s]', ' '))\n",
    "\n",
    "# Remover números (avaliações numéricas, preços, etc.)\n",
    "cleaned_df = cleaned_df.withColumn('reviewText', F.regexp_replace(cleaned_df['reviewText'], '\\d+', ''))\n",
    "\n",
    "# Substituir dígitos por um espaço em branco\n",
    "cleaned_df = cleaned_df.withColumn('reviewText', F.regexp_replace(cleaned_df['reviewText'], '\\d', ' '))\n",
    "\n",
    "# Remover espaços múltiplos e linhas novas\n",
    "cleaned_df = cleaned_df.withColumn('reviewText', F.regexp_replace(cleaned_df['reviewText'], '\\s+', ' '))\n",
    "\n",
    "# Remover espaços no início e no fim\n",
    "cleaned_df = cleaned_df.withColumn('reviewText', F.trim(cleaned_df['reviewText']))\n",
    "\n",
    "# cleaned_df.show(truncate=False)\n"
   ]
  },
  {
   "cell_type": "markdown",
   "metadata": {},
   "source": [
    "**1.2 summary**"
   ]
  },
  {
   "cell_type": "code",
   "execution_count": 100,
   "metadata": {
    "scrolled": true
   },
   "outputs": [
    {
     "name": "stderr",
     "output_type": "stream",
     "text": [
      "[Stage 120:====================================================>  (23 + 1) / 24]\r"
     ]
    },
    {
     "name": "stdout",
     "output_type": "stream",
     "text": [
      "+--------------------+-----+-----------------+-------------+--------------------+----------+--------------------+--------------+-------------+\n",
      "|                  id|class|helpfulTotalRatio|productRating|          reviewText|reviewTime|             summary|unixReviewTime|reviewUpvotes|\n",
      "+--------------------+-----+-----------------+-------------+--------------------+----------+--------------------+--------------+-------------+\n",
      "|5a13229b741a2384e...|  1.0|              0.0|          4.0|lee straight leg ...|      NULL|     excellent jeans|    1388534400|            0|\n",
      "|5a132298741a2384e...|  1.0|              0.0|          4.0|fits x after wash...|      NULL|liked them ordere...|    1388534400|            0|\n",
      "|5a132296741a2384e...|  1.0|            100.0|          4.0|the quality workm...|      NULL|     garnet necklace|    1168387200|            1|\n",
      "|5a132298741a2384e...|  1.0|              0.0|          5.0|these are perfect...|      NULL|perfect comfy fit...|    1357776000|            0|\n",
      "|5a132294741a2384e...|  1.0|              0.0|          5.0|i bought two of t...|      NULL|a perfect first w...|    1357776000|            0|\n",
      "|5a132296741a2384e...|  1.0|            100.0|          5.0|i had this watch ...|      NULL|excelent watch fo...|    1357776000|            2|\n",
      "|5a132296741a2384e...|  0.0|              0.0|          3.0|i bought these be...|      NULL|sturdy but too he...|    1357776000|            0|\n",
      "|5a13229a741a2384e...|  1.0|              0.0|          5.0|i have worn this ...|      NULL|  loving my new bras|    1389312000|            0|\n",
      "|5a132296741a2384e...|  0.0|              0.0|          2.0|i run in asics wo...|      NULL|  didnt work for me |    1389312000|            0|\n",
      "|5a132299741a2384e...|  1.0|              0.0|          5.0|we ordered the wa...|      NULL|excited about our...|    1389312000|            0|\n",
      "|5a132299741a2384e...|  1.0|            100.0|          5.0|i have owned my c...|      NULL|citizen ecodrive ...|    1168473600|            1|\n",
      "|5a132294741a2384e...|  1.0|            100.0|          4.0|this was a gift a...|      NULL|very nice for the...|    1168473600|            1|\n",
      "|5a132294741a2384e...|  1.0|            100.0|          5.0|gave these very p...|      NULL|           beautiful|    1168473600|            2|\n",
      "|5a132294741a2384e...|  1.0|            100.0|          5.0|this is the secon...|      NULL|             stylish|    1294704000|            4|\n",
      "|5a132297741a2384e...|  1.0|              0.0|          5.0|these boots fit g...|      NULL|     excellent boots|    1357862400|            0|\n",
      "|5a132299741a2384e...|  1.0|              0.0|          4.0|the seams along t...|      NULL|a couple of problems|    1357862400|            0|\n",
      "|5a132299741a2384e...|  1.0|              0.0|          5.0|bought these back...|      NULL|    love these shoes|    1357862400|            0|\n",
      "|5a132296741a2384e...|  1.0|            100.0|          5.0|i had always assu...|      NULL|beautiful freshwa...|    1168560000|            1|\n",
      "|5a132294741a2384e...|  1.0|            100.0|          4.0|for what i paid i...|      NULL|                fine|    1200096000|            3|\n",
      "|5a13229c741a2384e...|  1.0|              0.0|          5.0|way worth the mon...|      NULL|            good buy|    1231718400|            0|\n",
      "+--------------------+-----+-----------------+-------------+--------------------+----------+--------------------+--------------+-------------+\n",
      "only showing top 20 rows\n",
      "\n"
     ]
    },
    {
     "name": "stderr",
     "output_type": "stream",
     "text": [
      "                                                                                \r"
     ]
    }
   ],
   "source": [
    "from pyspark.sql.functions import col, lower, regexp_replace\n",
    "cleaned_df = cleaned_df.withColumn(\"summary\", lower(col(\"summary\")))\\\n",
    "                 .withColumn(\"summary\", regexp_replace(col(\"summary\"), \"[^\\w\\s]\", \"\"))\n",
    "cleaned_df.show()"
   ]
  },
  {
   "cell_type": "markdown",
   "metadata": {},
   "source": [
    "**Construção do modelo com Algoritmos de Machine Learning**"
   ]
  },
  {
   "cell_type": "markdown",
   "metadata": {},
   "source": [
    "**Modelo 1: Regressão Logística**"
   ]
  },
  {
   "cell_type": "code",
   "execution_count": 32,
   "metadata": {},
   "outputs": [
    {
     "name": "stderr",
     "output_type": "stream",
     "text": [
      "                                                                                \r"
     ]
    }
   ],
   "source": [
    "from pyspark.sql import SparkSession\n",
    "from pyspark.sql.functions import col, lower, regexp_replace, length, dayofweek, when\n",
    "from pyspark.sql.types import FloatType\n",
    "from pyspark.sql.functions import udf\n",
    "from pyspark.ml.feature import Bucketizer\n",
    "import matplotlib.pyplot as plt\n",
    "from pyspark.sql import functions as F\n",
    "\n",
    "\n",
    "spark = SparkSession.builder \\\n",
    "    .appName(\"LogisticRegressionExample\") \\\n",
    "    .config(\"spark.serializer\", \"org.apache.spark.serializer.KryoSerializer\") \\\n",
    "    .config(\"spark.default.parallelism\", 200) \\\n",
    "    .getOrCreate()\n",
    "\n",
    "# Presumindo que os seus dados estão num ficheiro JSON e têm as colunas 'reviewText' e 'class'\n",
    "file_path = \"Clothing_Shoes_and_Jewelry.json\"\n",
    "\n",
    "# Carregar o conjunto de dados\n",
    "df = spark.read.json(file_path)\n",
    "\n",
    "df = df.sample(fraction=0.1, seed=12345)"
   ]
  },
  {
   "cell_type": "code",
   "execution_count": 33,
   "metadata": {},
   "outputs": [
    {
     "name": "stderr",
     "output_type": "stream",
     "text": [
      "                                                                                \r"
     ]
    },
    {
     "name": "stdout",
     "output_type": "stream",
     "text": [
      "+--------------------+----------+--------------------+-----+-------+-------+--------------------+-----------+--------------+--------------+--------------------+--------------+\n",
      "|                 _id|      asin|            category|class|helpful|overall|          reviewText| reviewTime|    reviewerID|  reviewerName|             summary|unixReviewTime|\n",
      "+--------------------+----------+--------------------+-----+-------+-------+--------------------+-----------+--------------+--------------+--------------------+--------------+\n",
      "|{5a132293741a2384...|0000031887|Clothing_Shoes_an...|  1.0| [1, 1]|    4.0|This was a really...|05 26, 2012|A2G0LNLN79Q6HR| aj_18 \"Aj_18\"|Really Cute but r...|    1337990400|\n",
      "|{5a132293741a2384...|0000031887|Clothing_Shoes_an...|  1.0| [3, 4]|    4.0|I ordered this fo...|03 16, 2010|A3Q6CTO56DJ8UZ|Amazing Amazon|       Good Quality!|    1268697600|\n",
      "|{5a132293741a2384...|0000031887|Clothing_Shoes_an...|  1.0| [0, 0]|    4.0|I just got this t...|10 24, 2013|A2F9MVWWC0IZYW|           Amy|Perfect for the p...|    1382572800|\n",
      "|{5a132293741a2384...|0000031887|Clothing_Shoes_an...|  1.0| [2, 2]|    4.0|I bought this tut...|09 26, 2013| AJ7SZVK2FSZQJ| AuntBumblebee|Good enough for H...|    1380153600|\n",
      "|{5a132293741a2384...|0000031887|Clothing_Shoes_an...|  1.0| [0, 0]|    4.0|These tutus fit m...| 01 1, 2012|A36QXSHZCUC7VY|      Bearfoot|           Adorable!|    1325376000|\n",
      "+--------------------+----------+--------------------+-----+-------+-------+--------------------+-----------+--------------+--------------+--------------------+--------------+\n",
      "only showing top 5 rows\n",
      "\n",
      "+--------------------+----------+--------------------+-----+--------+-------+--------------------+-----------+--------------+-----------------+--------------------+--------------+\n",
      "|                 _id|      asin|            category|class| helpful|overall|          reviewText| reviewTime|    reviewerID|     reviewerName|             summary|unixReviewTime|\n",
      "+--------------------+----------+--------------------+-----+--------+-------+--------------------+-----------+--------------+-----------------+--------------------+--------------+\n",
      "|{5a132293741a2384...|0000031887|Clothing_Shoes_an...|  0.0|  [0, 0]|    1.0|Another example o...| 04 4, 2014|A2SHUHMONLRZAB|Discerning Viewer|Not a tutu, a sof...|    1396569600|\n",
      "|{5a132293741a2384...|0742403920|Clothing_Shoes_an...|  0.0|  [2, 2]|    3.0|Some of the puzzl...|12 15, 2012| AKJPWTLMAVBP0|           Matteo|          They're OK|    1355529600|\n",
      "|{5a132293741a2384...|1608299740|Clothing_Shoes_an...|  0.0|  [7, 9]|    1.0|You better have s...|12 30, 2011|A2DZE2IGJMHRFW|              djt|poor starting int...|    1325203200|\n",
      "|{5a132293741a2384...|1608299953|Clothing_Shoes_an...|  0.0|[12, 19]|    1.0|I have spent 4 ho...|05 17, 2011|A2U6UH5W3VPKEL|Dr. Dale C. Godby|           Support??|    1305590400|\n",
      "|{5a132293741a2384...|1617160377|Clothing_Shoes_an...|  0.0| [8, 10]|    1.0|It's great until ...|07 24, 2011|A3CL9JBIG4GB7D|        scwineguy|Lackluster Custom...|    1311465600|\n",
      "+--------------------+----------+--------------------+-----+--------+-------+--------------------+-----------+--------------+-----------------+--------------------+--------------+\n",
      "only showing top 5 rows\n",
      "\n"
     ]
    },
    {
     "name": "stderr",
     "output_type": "stream",
     "text": [
      "[Stage 13:>                                                         (0 + 1) / 1]\r"
     ]
    },
    {
     "name": "stdout",
     "output_type": "stream",
     "text": [
      "+----------+--------------------+-----+-----------------+-------------+--------------------+----------+--------------+--------------------+--------------------+--------------+-------------+------------+-------------+---------+-----------------+-----------------+--------------------+----------------+------------+\n",
      "|      asin|                  id|class|helpfulTotalRatio|productRating|          reviewText|reviewTime|    reviewerID|        reviewerName|             summary|unixReviewTime|reviewUpvotes|reviewLength|summaryLength|isWeekend|productPopularity| avgProductRating|helpfulRatioCategory|containsQuestion|containsLink|\n",
      "+----------+--------------------+-----+-----------------+-------------+--------------------+----------+--------------+--------------------+--------------------+--------------+-------------+------------+-------------+---------+-----------------+-----------------+--------------------+----------------+------------+\n",
      "|0000031887|5a132293741a2384e...|  1.0|            100.0|          4.0|this was a really...|      NULL|A2G0LNLN79Q6HR|       aj_18 \"Aj_18\"|really cute but r...|    1337990400|            1|         136|           29|        0|               24|4.458333333333333|                High|               0|           0|\n",
      "|0000031887|5a132293741a2384e...|  1.0|             75.0|          4.0|i ordered this fo...|      NULL|A3Q6CTO56DJ8UZ|      Amazing Amazon|        good quality|    1268697600|            3|         234|           13|        0|               24|4.458333333333333|                High|               0|           0|\n",
      "|0000031887|5a132293741a2384e...|  1.0|              0.0|          4.0|i just got this t...|      NULL|A2F9MVWWC0IZYW|                 Amy|perfect for the p...|    1382572800|            0|         701|           21|        0|               24|4.458333333333333|                 Low|               0|           0|\n",
      "|0000031887|5a132293741a2384e...|  1.0|            100.0|          4.0|i bought this tut...|      NULL| AJ7SZVK2FSZQJ|       AuntBumblebee|good enough for h...|    1380153600|            2|         641|           26|        0|               24|4.458333333333333|                High|               0|           0|\n",
      "|0000031887|5a132293741a2384e...|  1.0|              0.0|          4.0|these tutus fit m...|      NULL|A36QXSHZCUC7VY|            Bearfoot|            adorable|    1325376000|            0|         122|            9|        0|               24|4.458333333333333|                 Low|               0|           0|\n",
      "|0000031887|5a132293741a2384e...|  1.0|            100.0|          5.0|this tutu is exce...|      NULL|A338UR0Q3EG733|      B. Meade \"BRM\"|basic ballet dres...|    1278979200|            1|         237|           26|        0|               24|4.458333333333333|                High|               0|           0|\n",
      "|0000031887|5a132293741a2384e...|  1.0|             50.0|          4.0|i was slightly wo...|      NULL|A2RV0NHF7ODWPX|              Carlee|     fits a year old|    1374451200|            1|         335|           18|        0|               24|4.458333333333333|              Medium|               0|           0|\n",
      "|0000031887|5a132293741a2384e...|  1.0|              0.0|          5.0|i purchased these...|      NULL| A5T4F8B7XF3AU|       Cathy Cervone| beautiful well made|    1389484800|            0|         128|           21|        0|               24|4.458333333333333|                 Low|               0|           0|\n",
      "|0000031887|5a132293741a2384e...|  0.0|              0.0|          1.0|another example o...|      NULL|A2SHUHMONLRZAB|   Discerning Viewer|not a tutu a soft...|    1396569600|            0|         255|           31|        0|               24|4.458333333333333|                 Low|               0|           0|\n",
      "|0000031887|5a132293741a2384e...|  1.0|              0.0|          5.0|this is perfect m...|      NULL|A28E4JIUJA10DK|               doris|girl ballet tutu red|    1402272000|            0|         245|           20|        0|               24|4.458333333333333|                 Low|               0|           0|\n",
      "|0000031887|5a132293741a2384e...|  1.0|            100.0|          4.0|this is an averag...|      NULL|A2Y0ZD9CYGAS1S|               Jamie|         it s a tutu|    1369958400|            1|         301|           11|        0|               24|4.458333333333333|                High|               0|           0|\n",
      "|0000031887|5a132293741a2384e...|  1.0|             87.5|          5.0|for what i paid f...|      NULL| A3EERSWHAI6SO|Jeffrey Hollingsh...|wow is all i have...|    1349568000|            7|         532|           30|        0|               24|4.458333333333333|                High|               0|           0|\n",
      "|0000031887|5a132293741a2384e...|  1.0|              0.0|          4.0|i got this for my...|      NULL|A27IDO1NWJ272M|         jennifer s.|       wow very nice|    1369267200|            0|         142|           13|        0|               24|4.458333333333333|                 Low|               0|           0|\n",
      "|0000031887|5a132293741a2384e...|  1.0|              0.0|          5.0|pretty good quali...|      NULL|A1TBWRXV7KVHPC|                JenV|great buy for the...|    1374278400|            0|         231|           23|        0|               24|4.458333333333333|                 Low|               0|           0|\n",
      "|0000031887|5a132293741a2384e...|  1.0|              0.0|          4.0|we really like my...|      NULL|A3NAIJ23140GQP|               Jthom|               happy|    1356393600|            0|         115|            5|        0|               24|4.458333333333333|                 Low|               0|           0|\n",
      "|0000031887|5a132293741a2384e...|  1.0|              0.0|          5.0|i bought this for...|      NULL|A2MFEBXRQU3G70|                  mc|granddaughter lov...|    1356652800|            0|          94|           22|        0|               24|4.458333333333333|                 Low|               0|           0|\n",
      "|0000031887|5a132293741a2384e...|  1.0|              0.0|          5.0|i bought this for...|      NULL|A3IN7097CM4NWZ|       megan travers|          first tutu|    1375056000|            0|         138|           10|        0|               24|4.458333333333333|                 Low|               0|           0|\n",
      "|0000031887|5a132293741a2384e...|  1.0|              0.0|          5.0|absolutely darlin...|      NULL|A2N086AD3ATP9S|           netty1180|            so sweet|    1360540800|            0|         106|            9|        0|               24|4.458333333333333|                 Low|               0|           0|\n",
      "|0000031887|5a132293741a2384e...|  1.0|              0.0|          5.0|this was a gift f...|      NULL| AIOBIJPQQYVGF|            nicole p|     light blue tutu|    1356652800|            0|         312|           15|        0|               24|4.458333333333333|                 Low|               0|           0|\n",
      "|0000031887|5a132293741a2384e...|  1.0|              0.0|          5.0|the item was perf...|      NULL| AFXH949RTJAQ7|         Olivia Buck|girls ballet tutu...|    1398729600|            0|         152|           28|        0|               24|4.458333333333333|                 Low|               0|           0|\n",
      "+----------+--------------------+-----+-----------------+-------------+--------------------+----------+--------------+--------------------+--------------------+--------------+-------------+------------+-------------+---------+-----------------+-----------------+--------------------+----------------+------------+\n",
      "only showing top 20 rows\n",
      "\n"
     ]
    },
    {
     "name": "stderr",
     "output_type": "stream",
     "text": [
      "                                                                                \r"
     ]
    }
   ],
   "source": [
    "def helpful_ratio(helpful):\n",
    "    try:\n",
    "        return (helpful[0] / helpful[1])*100\n",
    "    except ZeroDivisionError:\n",
    "        return 0.0\n",
    "    except:\n",
    "        return None\n",
    "\n",
    "ratio_udf = udf(helpful_ratio, FloatType())\n",
    "\n",
    "def feature_engineering(df):\n",
    "    # Fase 1 Limpeza de Dados\n",
    "    # I Remover caracteres especiais do id\n",
    "    df = df.withColumn(\"_id\", col(\"_id\").getField(\"$oid\"))\n",
    "    df = df.withColumn(\"_id\", regexp_replace(col(\"_id\"), \"[{}]\", \"\"))\n",
    "\n",
    "    # II Eliminar colunas desnecessárias\n",
    "    df = df.drop('category')\n",
    "\n",
    "    # III Renomear algumas colunas para melhorar a qualidade de vida\n",
    "    df = df.withColumnRenamed(\"overall\", \"productRating\")\\\n",
    "           .withColumnRenamed(\"_id\", \"id\")\n",
    "\n",
    "    # IV Colocar o número de votos recebidos como uma métrica de útil\n",
    "    df = df.withColumn('reviewUpvotes', col('helpful')[0])\n",
    "\n",
    "    # V Modificar a coluna original 'helpful' para um valor float que mostra o número de pessoas que acharam útil entre o total de pessoas que visualizaram\n",
    "    df = df.withColumn('helpful', ratio_udf(col('helpful')))\n",
    "    df = df.withColumnRenamed(\"helpful\", \"helpfulTotalRatio\")\n",
    "\n",
    "    # VI Avaliar o comprimento da revisão e do resumo\n",
    "    df = df.withColumn('reviewLength', length(df['reviewText']))\n",
    "    df = df.withColumn('summaryLength', length(df['summary']))\n",
    "\n",
    "    # VII Avaliar se uma revisão foi publicada no fim de semana ou não\n",
    "    df = df.withColumn('reviewTime', col('reviewTime').cast('timestamp'))\n",
    "    df = df.withColumn('isWeekend', when(dayofweek(col('reviewTime')) > 5, 1).otherwise(0))\n",
    "\n",
    "    # VIII Criar Popularidade do Produto a partir da contagem de revisões\n",
    "    product_popularity_df = df.groupBy('asin').agg(F.count('*').alias('productPopularity'))\n",
    "    df = df.join(product_popularity_df, on='asin', how='left')\n",
    "\n",
    "    product_avg_rating_df = df.groupBy('asin').agg(F.avg('productRating').alias('avgProductRating'))\n",
    "    df = df.join(product_avg_rating_df, on='asin', how='left')\n",
    "\n",
    "    # IX Agrupar a helpfulTotalRatio\n",
    "    bucketizer = Bucketizer(splits=[0, 33.3, 66.6, 100], inputCol=\"helpfulTotalRatio\", outputCol=\"helpfulRatioCategory\")\n",
    "    df = bucketizer.setHandleInvalid(\"keep\").transform(df)\n",
    "\n",
    "    df = df.withColumn(\"helpfulRatioCategory\", \n",
    "                       F.when(F.col(\"helpfulRatioCategory\") == 0, \"Low\")\\\n",
    "                        .when(F.col(\"helpfulRatioCategory\") == 1, \"Medium\")\\\n",
    "                        .otherwise(\"High\"))\n",
    "\n",
    "    df = df.withColumn('containsQuestion', (F.col('reviewText').like('%?%')).cast('integer'))\n",
    "    df = df.withColumn('containsLink', (F.col('reviewText').like('%http%')).cast('integer'))\n",
    "\n",
    "    return df\n",
    "\n",
    "def text_processing(df):\n",
    "    # VI Remover caracteres especiais e converter para minúsculas\n",
    "    df = df.withColumn('reviewText', F.lower(df['reviewText']))\n",
    "    df = df.withColumn('reviewText', F.regexp_replace(df['reviewText'], '<[^>]+>', ''))\n",
    "    df = df.withColumn('reviewText', F.regexp_replace(df['reviewText'], 'http\\\\S+|www\\\\S+|https?://\\\\S+', ''))\n",
    "    df = df.withColumn('reviewText', F.regexp_replace(df['reviewText'], '@\\\\w+', ''))\n",
    "    df = df.withColumn('reviewText', F.regexp_replace(df['reviewText'], '#\\\\w+', ''))\n",
    "    df = df.withColumn('reviewText', F.regexp_replace(df['reviewText'], '&\\\\w+;', ''))\n",
    "    df = df.withColumn('reviewText', F.regexp_replace(df['reviewText'], '[^\\\\w\\\\s]', ' '))\n",
    "    df = df.withColumn('reviewText', F.regexp_replace(df['reviewText'], '\\\\d+', ''))\n",
    "    df = df.withColumn('reviewText', F.regexp_replace(df['reviewText'], '\\\\d', ' '))\n",
    "    df = df.withColumn('reviewText', F.regexp_replace(df['reviewText'], '\\\\s+', ' '))\n",
    "    df = df.withColumn('reviewText', F.trim(df['reviewText']))\n",
    "\n",
    "    df = df.withColumn('summary', F.lower(df['summary']))\n",
    "    df = df.withColumn('summary', F.regexp_replace(df['summary'], '<[^>]+>', ''))\n",
    "    df = df.withColumn('summary', F.regexp_replace(df['summary'], 'http\\\\S+|www\\\\S+|https?://\\\\S+', ''))\n",
    "    df = df.withColumn('summary', F.regexp_replace(df['summary'], '@\\\\w+', ''))\n",
    "    df = df.withColumn('summary', F.regexp_replace(df['summary'], '#\\\\w+', ''))\n",
    "    df = df.withColumn('summary', F.regexp_replace(df['summary'], '&\\\\w+;', ''))\n",
    "    df = df.withColumn('summary', F.regexp_replace(df['summary'], '[^\\\\w\\\\s]', ' '))\n",
    "    df = df.withColumn('summary', F.regexp_replace(df['summary'], '\\\\d+', ''))\n",
    "    df = df.withColumn('summary', F.regexp_replace(df['summary'], '\\\\d', ' '))\n",
    "    df = df.withColumn('summary', F.regexp_replace(df['summary'], '\\\\s+', ' '))\n",
    "    df = df.withColumn('summary', F.trim(df['summary']))\n",
    "\n",
    "    return df\n",
    "\n",
    "# Display a few samples of each label\n",
    "distinct_labels = df.select('class').distinct().rdd.flatMap(lambda x: x).collect()\n",
    "for label in distinct_labels:\n",
    "    df.filter(df['class'] == label).show(n=5)\n",
    "\n",
    "# Apply feature engineering\n",
    "df = feature_engineering(df)\n",
    "\n",
    "# Apply text processing after feature engineering\n",
    "df = text_processing(df)\n",
    "\n",
    "# Show the final DataFrame\n",
    "df.show()"
   ]
  },
  {
   "cell_type": "code",
   "execution_count": 34,
   "metadata": {},
   "outputs": [
    {
     "name": "stderr",
     "output_type": "stream",
     "text": [
      "                                                                                \r"
     ]
    },
    {
     "name": "stdout",
     "output_type": "stream",
     "text": [
      "+-----+------+\n",
      "|class| count|\n",
      "+-----+------+\n",
      "|  0.0|116697|\n",
      "|  1.0|433782|\n",
      "+-----+------+\n",
      "\n"
     ]
    },
    {
     "name": "stderr",
     "output_type": "stream",
     "text": [
      "                                                                                \r"
     ]
    },
    {
     "name": "stdout",
     "output_type": "stream",
     "text": [
      "+-----+-----+\n",
      "|class|count|\n",
      "+-----+-----+\n",
      "|  0.0|93481|\n",
      "|  1.0|93209|\n",
      "+-----+-----+\n",
      "\n",
      "Number of rows after sampling: 186690\n"
     ]
    },
    {
     "name": "stderr",
     "output_type": "stream",
     "text": [
      "24/06/03 03:19:26 WARN DAGScheduler: Broadcasting large task binary with size 4.2 MiB\n",
      "24/06/03 03:19:29 WARN DAGScheduler: Broadcasting large task binary with size 4.2 MiB\n",
      "24/06/03 03:19:33 WARN DAGScheduler: Broadcasting large task binary with size 4.2 MiB\n",
      "24/06/03 03:19:33 WARN DAGScheduler: Broadcasting large task binary with size 4.2 MiB\n",
      "24/06/03 03:19:33 WARN DAGScheduler: Broadcasting large task binary with size 4.2 MiB\n",
      "24/06/03 03:19:33 WARN DAGScheduler: Broadcasting large task binary with size 4.2 MiB\n",
      "24/06/03 03:19:33 WARN DAGScheduler: Broadcasting large task binary with size 4.2 MiB\n",
      "24/06/03 03:19:33 WARN DAGScheduler: Broadcasting large task binary with size 4.2 MiB\n",
      "24/06/03 03:19:33 WARN DAGScheduler: Broadcasting large task binary with size 4.2 MiB\n",
      "24/06/03 03:19:33 WARN DAGScheduler: Broadcasting large task binary with size 4.2 MiB\n",
      "24/06/03 03:19:33 WARN DAGScheduler: Broadcasting large task binary with size 4.2 MiB\n",
      "24/06/03 03:19:33 WARN DAGScheduler: Broadcasting large task binary with size 4.2 MiB\n",
      "24/06/03 03:19:34 WARN DAGScheduler: Broadcasting large task binary with size 4.2 MiB\n",
      "24/06/03 03:19:34 WARN DAGScheduler: Broadcasting large task binary with size 4.2 MiB\n",
      "24/06/03 03:19:34 WARN DAGScheduler: Broadcasting large task binary with size 4.2 MiB\n",
      "24/06/03 03:19:34 WARN DAGScheduler: Broadcasting large task binary with size 4.2 MiB\n",
      "24/06/03 03:19:34 WARN DAGScheduler: Broadcasting large task binary with size 4.2 MiB\n",
      "24/06/03 03:19:34 WARN DAGScheduler: Broadcasting large task binary with size 4.2 MiB\n",
      "24/06/03 03:19:34 WARN DAGScheduler: Broadcasting large task binary with size 4.2 MiB\n",
      "24/06/03 03:19:34 WARN DAGScheduler: Broadcasting large task binary with size 4.2 MiB\n",
      "24/06/03 03:19:34 WARN DAGScheduler: Broadcasting large task binary with size 4.2 MiB\n",
      "24/06/03 03:19:34 WARN DAGScheduler: Broadcasting large task binary with size 4.2 MiB\n",
      "24/06/03 03:19:34 WARN DAGScheduler: Broadcasting large task binary with size 4.2 MiB\n",
      "24/06/03 03:19:35 WARN DAGScheduler: Broadcasting large task binary with size 4.2 MiB\n",
      "24/06/03 03:19:35 WARN DAGScheduler: Broadcasting large task binary with size 4.2 MiB\n",
      "24/06/03 03:19:35 WARN DAGScheduler: Broadcasting large task binary with size 4.2 MiB\n",
      "24/06/03 03:19:35 WARN DAGScheduler: Broadcasting large task binary with size 4.2 MiB\n",
      "24/06/03 03:19:35 WARN DAGScheduler: Broadcasting large task binary with size 4.2 MiB\n",
      "24/06/03 03:19:35 WARN DAGScheduler: Broadcasting large task binary with size 4.2 MiB\n",
      "24/06/03 03:19:35 WARN DAGScheduler: Broadcasting large task binary with size 4.2 MiB\n",
      "24/06/03 03:19:35 WARN DAGScheduler: Broadcasting large task binary with size 4.2 MiB\n",
      "24/06/03 03:19:35 WARN DAGScheduler: Broadcasting large task binary with size 4.2 MiB\n",
      "24/06/03 03:19:36 WARN DAGScheduler: Broadcasting large task binary with size 4.2 MiB\n",
      "24/06/03 03:19:36 WARN DAGScheduler: Broadcasting large task binary with size 4.2 MiB\n",
      "24/06/03 03:19:36 WARN DAGScheduler: Broadcasting large task binary with size 4.2 MiB\n",
      "24/06/03 03:19:36 WARN DAGScheduler: Broadcasting large task binary with size 4.2 MiB\n",
      "24/06/03 03:19:36 WARN DAGScheduler: Broadcasting large task binary with size 4.2 MiB\n",
      "24/06/03 03:19:36 WARN DAGScheduler: Broadcasting large task binary with size 4.2 MiB\n",
      "24/06/03 03:19:36 WARN DAGScheduler: Broadcasting large task binary with size 4.2 MiB\n",
      "24/06/03 03:19:36 WARN DAGScheduler: Broadcasting large task binary with size 4.2 MiB\n",
      "24/06/03 03:19:37 WARN DAGScheduler: Broadcasting large task binary with size 4.2 MiB\n",
      "24/06/03 03:19:37 WARN DAGScheduler: Broadcasting large task binary with size 4.2 MiB\n",
      "24/06/03 03:19:37 WARN DAGScheduler: Broadcasting large task binary with size 4.2 MiB\n",
      "24/06/03 03:19:37 WARN DAGScheduler: Broadcasting large task binary with size 4.2 MiB\n",
      "24/06/03 03:19:37 WARN DAGScheduler: Broadcasting large task binary with size 4.2 MiB\n",
      "24/06/03 03:19:37 WARN DAGScheduler: Broadcasting large task binary with size 4.2 MiB\n",
      "24/06/03 03:19:37 WARN DAGScheduler: Broadcasting large task binary with size 4.2 MiB\n",
      "24/06/03 03:19:37 WARN DAGScheduler: Broadcasting large task binary with size 4.2 MiB\n",
      "24/06/03 03:19:38 WARN DAGScheduler: Broadcasting large task binary with size 4.2 MiB\n",
      "24/06/03 03:19:38 WARN DAGScheduler: Broadcasting large task binary with size 4.2 MiB\n",
      "24/06/03 03:19:38 WARN DAGScheduler: Broadcasting large task binary with size 4.2 MiB\n",
      "24/06/03 03:19:38 WARN DAGScheduler: Broadcasting large task binary with size 4.2 MiB\n",
      "24/06/03 03:19:38 WARN DAGScheduler: Broadcasting large task binary with size 4.2 MiB\n",
      "24/06/03 03:19:38 WARN DAGScheduler: Broadcasting large task binary with size 4.2 MiB\n",
      "24/06/03 03:19:38 WARN DAGScheduler: Broadcasting large task binary with size 4.2 MiB\n",
      "24/06/03 03:19:38 WARN DAGScheduler: Broadcasting large task binary with size 4.2 MiB\n",
      "24/06/03 03:19:38 WARN DAGScheduler: Broadcasting large task binary with size 4.2 MiB\n",
      "24/06/03 03:19:38 WARN DAGScheduler: Broadcasting large task binary with size 4.2 MiB\n",
      "24/06/03 03:19:39 WARN DAGScheduler: Broadcasting large task binary with size 4.2 MiB\n",
      "24/06/03 03:19:39 WARN DAGScheduler: Broadcasting large task binary with size 4.2 MiB\n",
      "24/06/03 03:19:39 WARN DAGScheduler: Broadcasting large task binary with size 4.2 MiB\n",
      "24/06/03 03:19:39 WARN DAGScheduler: Broadcasting large task binary with size 4.2 MiB\n",
      "24/06/03 03:19:39 WARN DAGScheduler: Broadcasting large task binary with size 4.2 MiB\n",
      "24/06/03 03:19:39 WARN DAGScheduler: Broadcasting large task binary with size 4.2 MiB\n",
      "24/06/03 03:19:39 WARN DAGScheduler: Broadcasting large task binary with size 4.2 MiB\n",
      "24/06/03 03:19:39 WARN DAGScheduler: Broadcasting large task binary with size 4.2 MiB\n",
      "24/06/03 03:19:39 WARN DAGScheduler: Broadcasting large task binary with size 4.2 MiB\n",
      "24/06/03 03:19:40 WARN DAGScheduler: Broadcasting large task binary with size 4.2 MiB\n",
      "24/06/03 03:19:40 WARN DAGScheduler: Broadcasting large task binary with size 4.2 MiB\n",
      "24/06/03 03:19:40 WARN DAGScheduler: Broadcasting large task binary with size 4.2 MiB\n",
      "24/06/03 03:19:40 WARN DAGScheduler: Broadcasting large task binary with size 4.2 MiB\n",
      "24/06/03 03:19:40 WARN DAGScheduler: Broadcasting large task binary with size 4.2 MiB\n",
      "24/06/03 03:19:40 WARN DAGScheduler: Broadcasting large task binary with size 4.2 MiB\n",
      "24/06/03 03:19:40 WARN DAGScheduler: Broadcasting large task binary with size 4.2 MiB\n",
      "24/06/03 03:19:40 WARN DAGScheduler: Broadcasting large task binary with size 4.2 MiB\n",
      "24/06/03 03:19:40 WARN DAGScheduler: Broadcasting large task binary with size 4.2 MiB\n",
      "24/06/03 03:19:41 WARN DAGScheduler: Broadcasting large task binary with size 4.2 MiB\n",
      "24/06/03 03:19:41 WARN DAGScheduler: Broadcasting large task binary with size 4.2 MiB\n",
      "24/06/03 03:19:41 WARN DAGScheduler: Broadcasting large task binary with size 4.2 MiB\n",
      "24/06/03 03:19:41 WARN DAGScheduler: Broadcasting large task binary with size 4.2 MiB\n",
      "24/06/03 03:19:41 WARN DAGScheduler: Broadcasting large task binary with size 4.2 MiB\n",
      "24/06/03 03:19:41 WARN DAGScheduler: Broadcasting large task binary with size 4.2 MiB\n",
      "24/06/03 03:19:41 WARN DAGScheduler: Broadcasting large task binary with size 4.2 MiB\n",
      "24/06/03 03:19:41 WARN DAGScheduler: Broadcasting large task binary with size 4.2 MiB\n",
      "24/06/03 03:19:41 WARN DAGScheduler: Broadcasting large task binary with size 4.2 MiB\n",
      "24/06/03 03:19:41 WARN DAGScheduler: Broadcasting large task binary with size 4.2 MiB\n",
      "24/06/03 03:19:42 WARN DAGScheduler: Broadcasting large task binary with size 4.2 MiB\n",
      "24/06/03 03:19:42 WARN DAGScheduler: Broadcasting large task binary with size 4.2 MiB\n",
      "24/06/03 03:19:42 WARN DAGScheduler: Broadcasting large task binary with size 4.2 MiB\n",
      "24/06/03 03:19:42 WARN DAGScheduler: Broadcasting large task binary with size 4.2 MiB\n",
      "24/06/03 03:19:42 WARN DAGScheduler: Broadcasting large task binary with size 4.2 MiB\n",
      "24/06/03 03:19:42 WARN DAGScheduler: Broadcasting large task binary with size 4.2 MiB\n",
      "24/06/03 03:19:42 WARN DAGScheduler: Broadcasting large task binary with size 4.2 MiB\n",
      "24/06/03 03:19:42 WARN DAGScheduler: Broadcasting large task binary with size 4.2 MiB\n",
      "24/06/03 03:19:42 WARN DAGScheduler: Broadcasting large task binary with size 4.2 MiB\n",
      "24/06/03 03:19:43 WARN DAGScheduler: Broadcasting large task binary with size 4.2 MiB\n",
      "24/06/03 03:19:43 WARN DAGScheduler: Broadcasting large task binary with size 4.2 MiB\n",
      "24/06/03 03:19:43 WARN DAGScheduler: Broadcasting large task binary with size 4.2 MiB\n",
      "24/06/03 03:19:43 WARN DAGScheduler: Broadcasting large task binary with size 4.2 MiB\n",
      "24/06/03 03:19:43 WARN DAGScheduler: Broadcasting large task binary with size 4.2 MiB\n",
      "24/06/03 03:19:43 WARN DAGScheduler: Broadcasting large task binary with size 4.2 MiB\n",
      "24/06/03 03:19:43 WARN DAGScheduler: Broadcasting large task binary with size 4.2 MiB\n",
      "24/06/03 03:19:43 WARN DAGScheduler: Broadcasting large task binary with size 4.2 MiB\n",
      "24/06/03 03:19:43 WARN DAGScheduler: Broadcasting large task binary with size 4.2 MiB\n",
      "24/06/03 03:19:43 WARN DAGScheduler: Broadcasting large task binary with size 4.2 MiB\n",
      "24/06/03 03:19:44 WARN DAGScheduler: Broadcasting large task binary with size 4.8 MiB\n",
      "/Users/nuno/.local/lib/python3.9/site-packages/pyspark/sql/context.py:158: FutureWarning: Deprecated in 3.0.0. Use SparkSession.builder.getOrCreate() instead.\n",
      "  warnings.warn(\n",
      "24/06/03 03:19:45 WARN DAGScheduler: Broadcasting large task binary with size 4.8 MiB\n"
     ]
    },
    {
     "name": "stdout",
     "output_type": "stream",
     "text": [
      "Test Accuracy = 0.80\n"
     ]
    },
    {
     "name": "stderr",
     "output_type": "stream",
     "text": [
      "24/06/03 03:19:46 WARN DAGScheduler: Broadcasting large task binary with size 4.8 MiB\n",
      "[Stage 498:>                                                        (0 + 2) / 2]\r"
     ]
    },
    {
     "name": "stdout",
     "output_type": "stream",
     "text": [
      "Class 1.0:\n",
      "  Precision = 0.81\n",
      "  Recall = 0.80\n",
      "  F1 Score = 0.80\n",
      "Class 0.0:\n",
      "  Precision = 0.80\n",
      "  Recall = 0.80\n",
      "  F1 Score = 0.80\n"
     ]
    },
    {
     "name": "stderr",
     "output_type": "stream",
     "text": [
      "                                                                                \r"
     ]
    },
    {
     "data": {
      "image/png": "[encoded data removed]",
      "text/plain": [
       "<Figure size 1000x700 with 2 Axes>"
      ]
     },
     "metadata": {},
     "output_type": "display_data"
    }
   ],
   "source": [
    "from pyspark.sql import SparkSession\n",
    "from pyspark.ml.feature import Tokenizer, StopWordsRemover, HashingTF, IDF\n",
    "from pyspark.ml.classification import LogisticRegression\n",
    "from pyspark.ml import Pipeline\n",
    "import pyspark.sql.functions as F\n",
    "from pyspark.sql.functions import to_timestamp, col, regexp_replace\n",
    "from pyspark.ml.evaluation import MulticlassClassificationEvaluator\n",
    "from pyspark.mllib.evaluation import MulticlassMetrics\n",
    "from pyspark.storagelevel import StorageLevel\n",
    "import matplotlib.pyplot as plt\n",
    "import seaborn as sns\n",
    "import pandas as pd\n",
    "\n",
    "\n",
    "# Checking for class imbalance\n",
    "class_distribution = df.groupBy(\"class\").count().orderBy(\"class\")\n",
    "class_distribution.show()\n",
    "\n",
    "# # Undersample the majority class\n",
    "min_class_count = class_distribution.agg({\"count\": \"min\"}).collect()[0][0]\n",
    "\n",
    "# print(\"Minimum class count:\", min_class_count)\n",
    "\n",
    "undersampled_df = df.groupBy(\"class\").applyInPandas(\n",
    "    lambda pdf: pdf.sample(n=min_class_count, random_state=42) if len(pdf) > min_class_count else pdf,\n",
    "    schema=cleaned_df.schema\n",
    ")\n",
    "\n",
    "# Pre-processing stages\n",
    "tokenizer = Tokenizer(inputCol=\"reviewText\", outputCol=\"tokens\")\n",
    "remover = StopWordsRemover(inputCol=\"tokens\", outputCol=\"filtered_tokens\")\n",
    "hashingTF = HashingTF(inputCol=\"filtered_tokens\", outputCol=\"rawFeatures\")\n",
    "idf = IDF(inputCol=\"rawFeatures\", outputCol=\"features\")\n",
    "\n",
    "# Logistic Regression model\n",
    "lr = LogisticRegression(labelCol=\"class\")\n",
    "\n",
    "# Pipeline construction\n",
    "pipeline = Pipeline(stages=[tokenizer, remover, hashingTF, idf, lr])\n",
    "\n",
    "# Persist DataFrame to disk to save memory\n",
    "undersampled_df.persist(StorageLevel.MEMORY_AND_DISK)\n",
    "\n",
    "# Split the data into training and testing sets\n",
    "train_df, test_df = undersampled_df.randomSplit([0.8, 0.2], seed=42)\n",
    "\n",
    "count_classes = train_df.groupBy(\"class\").count().orderBy(\"class\")\n",
    "count_classes.show()\n",
    "\n",
    "print(\"Number of rows after sampling:\", train_df.count())\n",
    "\n",
    "# Train the model using the training data\n",
    "model = pipeline.fit(train_df)\n",
    "\n",
    "# Make predictions on the testing data\n",
    "predictions = model.transform(test_df)\n",
    "\n",
    "# Calculate accuracy\n",
    "evaluator = MulticlassClassificationEvaluator(labelCol=\"class\", predictionCol=\"prediction\", metricName=\"accuracy\")\n",
    "accuracy = evaluator.evaluate(predictions)\n",
    "print(f\"Test Accuracy = {accuracy:.2f}\")\n",
    "\n",
    "# Calculate other metrics\n",
    "predictionAndLabels = predictions.select(\"prediction\", \"class\").rdd.map(lambda row: (row[0], row[1]))\n",
    "metrics = MulticlassMetrics(predictionAndLabels)\n",
    "\n",
    "labels = predictions.select(\"class\").distinct().collect()\n",
    "labels = [row['class'] for row in labels]\n",
    "\n",
    "for label in labels:\n",
    "    precision = metrics.precision(label)\n",
    "    recall = metrics.recall(label)\n",
    "    f1Score = metrics.fMeasure(label)\n",
    "    print(f\"Class {label}:\")\n",
    "    print(f\"  Precision = {precision:.2f}\")\n",
    "    print(f\"  Recall = {recall:.2f}\")\n",
    "    print(f\"  F1 Score = {f1Score:.2f}\")\n",
    "\n",
    "# Create confusion matrix\n",
    "confusion_matrix = metrics.confusionMatrix().toArray()\n",
    "confusion_matrix = confusion_matrix.astype(int)\n",
    "\n",
    "# Plot confusion matrix\n",
    "plt.figure(figsize=(10, 7))\n",
    "sns.heatmap(confusion_matrix, annot=True, fmt=\"d\", cmap=\"Blues\")\n",
    "plt.xlabel('Predicted Label')\n",
    "plt.ylabel('True Label')\n",
    "plt.title('Confusion Matrix')\n",
    "plt.show()\n",
    "\n",
    "# Stop the Spark session\n",
    "spark.stop()"
   ]
  },
  {
   "cell_type": "markdown",
   "metadata": {},
   "source": [
    "### Implementação"
   ]
  },
  {
   "cell_type": "markdown",
   "metadata": {},
   "source": [
    "### NOTAS"
   ]
  },
  {
   "cell_type": "markdown",
   "metadata": {},
   "source": [
    "• Por questões de produtividade, devem ser considerados dois conjuntos de dados aquando do desenvolvimento da solução. Assim, para além dos dados originais na sua integra, deve ser utilizado um conjunto de dados de menor dimensão (sub-conjunto dos anteriores), para o caso de tarefas intensivas e frequentes, inerentes ao próprio processo de desenvolvimento da solução.\n",
    "\n",
    "• Cada notebook (ou módulo) deverá ser autónomo em termos de fontes de dados. Sugere se que estruturem o código por forma a ler e gravar os dados entre cada uma das etapas do projeto. Isto é particularmente importante para a parte da visualização: a geração\n",
    "de um gráfico ou tabela não deverá implicar a realização da simulação/processamento no mesmo instante. Preferencialmente deverá importar os dados já processados a partir de ficheiros."
   ]
  },
  {
   "cell_type": "markdown",
   "metadata": {},
   "source": [
    "### Bibliografia"
   ]
  },
  {
   "cell_type": "markdown",
   "metadata": {},
   "source": [
    "https://www.kaggle.com/datasets/naveedhn/amazon-product-review-spam-and-non-spam/data?select=Clothing_Shoes_and_Jewelry     https://ieeexplore.ieee.org/abstract/document/9027828\n",
    "\n",
    "https://www.kaggle.com/code/abhilashsampath/amazon-review-spam-detection"
   ]
  }
 ],
 "metadata": {
  "kernelspec": {
   "display_name": "Python 3 (ipykernel)",
   "language": "python",
   "name": "python3"
  },
  "language_info": {
   "codemirror_mode": {
    "name": "ipython",
    "version": 3
   },
   "file_extension": ".py",
   "mimetype": "text/x-python",
   "name": "python",
   "nbconvert_exporter": "python",
   "pygments_lexer": "ipython3",
   "version": "3.12.2"
  }
 },
 "nbformat": 4,
 "nbformat_minor": 4
}
